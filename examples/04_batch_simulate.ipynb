{
 "cells": [
  {
   "cell_type": "code",
   "execution_count": null,
   "metadata": {
    "tags": []
   },
   "outputs": [],
   "source": [
    "#add mbes_sim to search path\n",
    "import sys\n",
    "sys.path.insert(0, \"../src/\")"
   ]
  },
  {
   "cell_type": "code",
   "execution_count": null,
   "metadata": {
    "tags": []
   },
   "outputs": [],
   "source": [
    "from tqdm.auto import tqdm\n",
    "from copy import deepcopy\n",
    "import time\n",
    "import math\n",
    "\n",
    "from IPython.display import clear_output\n",
    "\n",
    "import mbes_sim.simulationfunctions as SIMFUN"
   ]
  },
  {
   "cell_type": "code",
   "execution_count": null,
   "metadata": {
    "tags": []
   },
   "outputs": [],
   "source": [
    "# setups base comparison\n",
    "#from collections import set\n",
    "\n",
    "def addSimSetup(simSetups,options):\n",
    "    simsetup = deepcopy(BaseSetup)\n",
    "    for kopt,vopt in options.items():\n",
    "        for k,v in vopt.items():\n",
    "            simsetup[k] = v\n",
    "                                \n",
    "    sname_blockAvg = ''\n",
    "    sname = ''\n",
    "    for k,v in simsetup.items():\n",
    "        sname +=k+'['+str(v)+']'\n",
    "                                    \n",
    "        if not 'blockAvg' in k:\n",
    "            sname_blockAvg +=k+'['+str(v)+']'\n",
    "        else:\n",
    "            sname_blockAvg += k+'['+str(True)+']'\n",
    "            \n",
    "    if sname_blockAvg in simSetups.keys():\n",
    "       return       \n",
    "    simSetups[sname] = simsetup\n",
    "    \n"
   ]
  },
  {
   "cell_type": "code",
   "execution_count": null,
   "metadata": {
    "tags": []
   },
   "outputs": [],
   "source": [
    "\n",
    "#create base setup\n",
    "\n",
    "setup = SIMFUN.SimulationSetup(\n",
    "    prefix = 'sim_batch',\n",
    "    blockAvg = True,\n",
    "    windowType           = SIMFUN.t_Window.Exponential,\n",
    "    motionDataPath = '../test_data/m143_l0154_motion.csv',\n",
    "    surveyType           = SIMFUN.t_Survey.IdealMotion,\n",
    "    voxelsize            = 3,\n",
    "    surveyspeedKnots     = 3,\n",
    "    swathdistance        = 0.8,\n",
    "    layerDepths          = [],\n",
    "    layerSizes           = [],\n",
    "    bubbleType           = SIMFUN.t_Bubbles.SingleBubble,\n",
    "    exagHPR              = 1,\n",
    "    BaseDirectory        = 'simresults',\n",
    "    \n",
    "    load_previous_simresults = False,    \n",
    "    verbose = True)\n",
    "\n",
    "BaseSetup = deepcopy(setup.SimSetup)"
   ]
  },
  {
   "cell_type": "code",
   "execution_count": null,
   "metadata": {
    "tags": []
   },
   "outputs": [],
   "source": [
    "# add batch options for single bubble, voxelsize 3 ideal motion\n",
    "\n",
    "BaseOptions={'blockAvg' : True}\n",
    "\n",
    "windowOptions=[]\n",
    "windowOptions.append({'windowType' : SIMFUN.t_Window.Box})\n",
    "windowOptions.append({'windowType' : SIMFUN.t_Window.Hann})\n",
    "windowOptions.append({'windowType' : SIMFUN.t_Window.Exponential})\n",
    "\n",
    "voxelOptions=[]\n",
    "voxelOptions.append({'voxelsize' : 1 })\n",
    "voxelOptions.append({'voxelsize' : 1.5 })\n",
    "voxelOptions.append({'voxelsize' : 3 })\n",
    "\n",
    "navOptions=[]\n",
    "navOptions.append({'surveyType' : SIMFUN.t_Survey.IdealMotion})\n",
    "\n",
    "\n",
    "options = {}\n",
    "simSetups = {}\n",
    "\n",
    "options['base'] = BaseOptions    \n",
    "for wo in windowOptions:\n",
    "    options['wo'] = wo    \n",
    "    for vo in voxelOptions:\n",
    "        options['vo'] = vo                    \n",
    "        for no in navOptions:\n",
    "            options['no'] = no\n",
    "    \n",
    "            addSimSetup(simSetups,options)\n",
    "                            \n",
    "len(simSetups)"
   ]
  },
  {
   "cell_type": "code",
   "execution_count": null,
   "metadata": {
    "tags": []
   },
   "outputs": [],
   "source": [
    "# add batch options for single bubble, voxelsize 1-3 real motion\n",
    "\n",
    "BaseOptions={'blockAvg' : False}\n",
    "\n",
    "windowOptions=[]\n",
    "#windowOptions.append({'windowType' : SIMFUN.t_Window.Box})\n",
    "#windowOptions.append({'windowType' : SIMFUN.t_Window.Hann})\n",
    "windowOptions.append({'windowType' : SIMFUN.t_Window.Exponential})\n",
    "\n",
    "voxelOptions=[]\n",
    "voxelOptions.append({'voxelsize' : 1 })\n",
    "#voxelOptions.append({'voxelsize' : 1.5 })\n",
    "voxelOptions.append({'voxelsize' : 3 })\n",
    "\n",
    "navOptions=[]\n",
    "navOptions.append({'surveyType' : SIMFUN.t_Survey.IdealMotion})\n",
    "# navOptions.append({'surveyType' : SIMFUN.t_Survey.RealMotion,\n",
    "#                   'exagHPR' : 1})\n",
    "navOptions.append({'surveyType' : SIMFUN.t_Survey.RealMotion,\n",
    "                  'exagHPR' : 3})\n",
    "\n",
    "\n",
    "options = {}\n",
    "#simSetups = {}\n",
    "\n",
    "options['base'] = BaseOptions    \n",
    "for wo in windowOptions:\n",
    "    options['wo'] = wo    \n",
    "    for vo in voxelOptions:\n",
    "        options['vo'] = vo                    \n",
    "        for no in navOptions:\n",
    "            options['no'] = no\n",
    "    \n",
    "            addSimSetup(simSetups,options)\n",
    "                            \n",
    "len(simSetups)"
   ]
  },
  {
   "cell_type": "code",
   "execution_count": null,
   "metadata": {},
   "outputs": [],
   "source": [
    "# add batch options for bubble streams\n",
    "BaseOptions={'blockAvg' : False,\n",
    "             'layerDepths' : [42,48,60,108,42,48,60,108],\n",
    "             'layerSizes'  : [12,12,12, 12,24,24,24,24],\n",
    "             'bubbleType'  : SIMFUN.t_Bubbles.BubbleStream    }\n",
    "\n",
    "windowOptions=[]\n",
    "#windowOptions.append({'windowType' : SIMFUN.t_Window.Box})\n",
    "#windowOptions.append({'windowType' : SIMFUN.t_Window.Hann})\n",
    "windowOptions.append({'windowType' : SIMFUN.t_Window.Exponential})\n",
    "\n",
    "voxelOptions=[]\n",
    "voxelOptions.append({'voxelsize' : 1 })\n",
    "#voxelOptions.append({'voxelsize' : 1.5 })\n",
    "#voxelOptions.append({'voxelsize' : 3 })\n",
    "\n",
    "navOptions=[]\n",
    "#navOptions.append({'surveyType' : SIMFUN.t_Survey.IdealMotion})\n",
    "navOptions.append({'surveyType' : SIMFUN.t_Survey.RealMotion,\n",
    "                  'exagHPR' : 1})\n",
    "#navOptions.append({'surveyType' : SIMFUN.t_Survey.RealMotion,\n",
    "#                  'exagHPR' : 3})\n",
    "\n",
    "options = {}\n",
    "#simSetups = {}\n",
    "\n",
    "options['base'] = BaseOptions    \n",
    "for wo in windowOptions:\n",
    "    options['wo'] = wo    \n",
    "    for vo in voxelOptions:\n",
    "        options['vo'] = vo                    \n",
    "        for no in navOptions:\n",
    "            options['no'] = no\n",
    "    \n",
    "            addSimSetup(simSetups,options)\n",
    "                            \n",
    "len(simSetups)"
   ]
  },
  {
   "cell_type": "code",
   "execution_count": null,
   "metadata": {
    "tags": []
   },
   "outputs": [],
   "source": [
    "#print batch setups\n",
    "if True:\n",
    "    for i,(_,ss) in enumerate(simSetups.items()):\n",
    "        print('-- Setup [{}] --'.format(i+1))\n",
    "        if i == 0:\n",
    "            bss = deepcopy(ss)\n",
    "            for k,v in ss.items():\n",
    "                print(k,'=',v)\n",
    "        else:\n",
    "            for k,v in ss.items():\n",
    "                if bss[k] != v:\n",
    "                    print(k,'=',v)\n",
    "\n",
    "        print()\n",
    "\n",
    "    \n",
    "print(len(simSetups))"
   ]
  },
  {
   "cell_type": "code",
   "execution_count": null,
   "metadata": {
    "tags": []
   },
   "outputs": [],
   "source": [
    "print(len(simSetups))\n",
    "print('started:',time.time())"
   ]
  },
  {
   "cell_type": "code",
   "execution_count": null,
   "metadata": {
    "tags": []
   },
   "outputs": [],
   "source": [
    "TotalSims =1200 # total number of simulations per setup\n",
    "StartMainRun = 2\n",
    "MainRuns = 20  # number of simulation steps (each simulation step will simulate TotalSims/MainRuns for each setup)\n",
    "\n",
    "parallel_sims = 2\n",
    "\n",
    "try:\n",
    "    MainProgress.close()\n",
    "    del MainProgress\n",
    "    SetupProgress.close()\n",
    "    del SetupProgress\n",
    "except:\n",
    "    pass\n",
    "\n",
    "MainProgress  = tqdm(total = MainRuns, desc='MainProgress',position = 1)\n",
    "SetupProgress = tqdm(total = len(simSetups), desc='SetupProgress',position = 2)"
   ]
  },
  {
   "cell_type": "code",
   "execution_count": null,
   "metadata": {
    "tags": []
   },
   "outputs": [],
   "source": [
    "\n",
    "MainProgress.reset(total=MainRuns)\n",
    "\n",
    "localSims = math.ceil(TotalSims/MainRuns)\n",
    "currentResults = 0\n",
    "    \n",
    "for subsimrun in range(StartMainRun,MainRuns):\n",
    "    SetupProgress.reset(total=len(simSetups))\n",
    "    for sn,(_,simSetup) in enumerate(simSetups.items()):\n",
    "        #importlib.reload(tqdmModule)\n",
    "        clear_output()\n",
    "        print(' --- SubSimRun: {}/{} ---'.format(subsimrun+1,MainRuns))\n",
    "        print('simSetup: {}/{}'.format(sn+1,len(simSetups)))\n",
    "        for k,v in simSetup.items():\n",
    "            print(k,'=',v)\n",
    "        print()\n",
    "        print('Loading previous results ...')\n",
    "        simreturns = setup.get_previous_simreturns(simSetup,setup.BaseDirectory)\n",
    "        \n",
    "        if not setup.AddPlots:\n",
    "            print('deleting plots')\n",
    "            for k in simreturns.keys():\n",
    "                if 'resample' in k:\n",
    "                    del simreturns[k]\n",
    "                    print('1',k)\n",
    "            for k in simreturns.keys():\n",
    "                if 'resample' in k:\n",
    "                    del simreturns[k]\n",
    "                    print('1',k)\n",
    "            \n",
    "        currentTotalSims = (localSims) * (subsimrun+1)\n",
    "        print('currentTotalSims:            ',currentTotalSims)\n",
    "        print('len(setup.SimulationResults):',len(simreturns))\n",
    "            \n",
    "        if len(simreturns) < (localSims) * (subsimrun+1):\n",
    "            localTotalSims = deepcopy(localSims)\n",
    "            if len(simreturns) + localTotalSims > currentTotalSims:\n",
    "                localTotalSims = currentTotalSims - len(simreturns)\n",
    "                \n",
    "            parasims = parallel_sims\n",
    "            if parasims > localTotalSims:\n",
    "                parasims = localTotalSims\n",
    "            \n",
    "            print('--- initializing setup ---')\n",
    "            \n",
    "            \n",
    "            setup.call_setups(simSetup,verbose = True,load_previous_simresults = False)\n",
    "            setup.SimulationResults = simreturns\n",
    "            \n",
    "            print('--- Simulate ---')\n",
    "            setup.simulate(totalSimulations    = localTotalSims,\n",
    "                           parallelSimulations = parasims)\n",
    "        else:\n",
    "            print('skipping ...')\n",
    "            time.sleep(1)\n",
    "        \n",
    "        \n",
    "        SetupProgress.update()\n",
    "        MainProgress.update(1/len(SetupProgress))"
   ]
  },
  {
   "cell_type": "code",
   "execution_count": null,
   "metadata": {},
   "outputs": [],
   "source": []
  }
 ],
 "metadata": {
  "kernelspec": {
   "display_name": "Python 3 (ipykernel)",
   "language": "python",
   "name": "python3"
  },
  "language_info": {
   "codemirror_mode": {
    "name": "ipython",
    "version": 3
   },
   "file_extension": ".py",
   "mimetype": "text/x-python",
   "name": "python",
   "nbconvert_exporter": "python",
   "pygments_lexer": "ipython3",
   "version": "3.11.0"
  }
 },
 "nbformat": 4,
 "nbformat_minor": 4
}
