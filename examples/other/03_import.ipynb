{
 "cells": [
  {
   "cell_type": "code",
   "execution_count": 1,
   "metadata": {
    "execution": {
     "iopub.execute_input": "2025-02-17T13:48:03.866299Z",
     "iopub.status.busy": "2025-02-17T13:48:03.866118Z",
     "iopub.status.idle": "2025-02-17T13:48:03.868582Z",
     "shell.execute_reply": "2025-02-17T13:48:03.868284Z",
     "shell.execute_reply.started": "2025-02-17T13:48:03.866285Z"
    },
    "tags": []
   },
   "outputs": [],
   "source": [
    "#add mbes_sim to search path\n",
    "import sys\n",
    "sys.path.insert(0, \"../../src/\")"
   ]
  },
  {
   "cell_type": "code",
   "execution_count": 2,
   "metadata": {
    "execution": {
     "iopub.execute_input": "2025-02-17T13:48:04.236526Z",
     "iopub.status.busy": "2025-02-17T13:48:04.236328Z",
     "iopub.status.idle": "2025-02-17T13:48:05.064764Z",
     "shell.execute_reply": "2025-02-17T13:48:05.064387Z",
     "shell.execute_reply.started": "2025-02-17T13:48:04.236513Z"
    },
    "tags": []
   },
   "outputs": [],
   "source": [
    "%matplotlib widget\n",
    "\n",
    "from ipywidgets import *\n",
    "import matplotlib.pyplot as plt\n",
    "\n",
    "import numpy as np\n",
    "import math\n",
    "from copy import deepcopy\n",
    "from tqdm.auto import tqdm\n",
    "import pandas as pd\n",
    "\n",
    "import mbes_sim.simulationfunctions as SIMFUN\n",
    "import mbes_sim.functions.create_bubblesfunctions as bubbles"
   ]
  },
  {
   "cell_type": "code",
   "execution_count": 3,
   "metadata": {
    "execution": {
     "iopub.execute_input": "2025-02-17T13:48:05.065530Z",
     "iopub.status.busy": "2025-02-17T13:48:05.065280Z",
     "iopub.status.idle": "2025-02-17T13:48:05.067669Z",
     "shell.execute_reply": "2025-02-17T13:48:05.067400Z",
     "shell.execute_reply.started": "2025-02-17T13:48:05.065519Z"
    }
   },
   "outputs": [],
   "source": [
    "# simplify plotting\n",
    "import matplotlib as mpl\n",
    "\n",
    "mpl.rcParams['figure.dpi'] = 100\n",
    "close_plots = True\n",
    "\n",
    "\n",
    "def create_figure(name):\n",
    "    if close_plots: plt.close(name)\n",
    "    fig = plt.figure(name)\n",
    "    fig.suptitle = name\n",
    "    \n",
    "    return fig"
   ]
  },
  {
   "cell_type": "code",
   "execution_count": 4,
   "metadata": {
    "execution": {
     "iopub.execute_input": "2025-02-17T13:48:05.503424Z",
     "iopub.status.busy": "2025-02-17T13:48:05.503217Z",
     "iopub.status.idle": "2025-02-17T13:48:05.505733Z",
     "shell.execute_reply": "2025-02-17T13:48:05.505436Z",
     "shell.execute_reply.started": "2025-02-17T13:48:05.503412Z"
    },
    "tags": []
   },
   "outputs": [],
   "source": [
    "downfactor = 1 #speed up sumlation by reducing the resolution and number of beams and samples of the mbes\n",
    "resfactor  = 1\n",
    "voxsize    = 1\n",
    "\n",
    "beam_pattern = SIMFUN.t_Window.Exponential\n",
    "\n",
    "method_name = 'sv_int_lin'"
   ]
  },
  {
   "cell_type": "code",
   "execution_count": 5,
   "metadata": {
    "execution": {
     "iopub.execute_input": "2025-02-17T13:48:06.434594Z",
     "iopub.status.busy": "2025-02-17T13:48:06.434404Z",
     "iopub.status.idle": "2025-02-17T13:48:13.823593Z",
     "shell.execute_reply": "2025-02-17T13:48:13.822977Z",
     "shell.execute_reply.started": "2025-02-17T13:48:06.434582Z"
    },
    "tags": []
   },
   "outputs": [
    {
     "data": {
      "application/vnd.jupyter.widget-view+json": {
       "model_id": "91b4ceee07e24c4c8e25910753a7ae3d",
       "version_major": 2,
       "version_minor": 0
      },
      "text/plain": [
       "  0%|          | 0/256 [00:00<?, ?it/s]"
      ]
     },
     "metadata": {},
     "output_type": "display_data"
    },
    {
     "name": "stdout",
     "output_type": "stream",
     "text": [
      "recalculated MBES\n",
      "-108.25 108.25\n"
     ]
    }
   ],
   "source": [
    "setup = SIMFUN.SimulationSetup(\n",
    "    addPlots = True,\n",
    "    prefix = 'examples',\n",
    "    downfactor = downfactor,\n",
    "    blockAvg = False,\n",
    "    resfactor  = resfactor,\n",
    "    windowType           = beam_pattern,\n",
    "    idealizedBeampattern = False,\n",
    "    equiDist             = False,\n",
    "    motionDataPath = '../../test_data/m143_l0154_motion.csv',\n",
    "    \n",
    "    surveyType           = SIMFUN.t_Survey.RealMotion,\n",
    "    voxelsize            = voxsize / downfactor,\n",
    "    voxelsizeZ           = voxsize / downfactor,\n",
    "    surveyspeedKnots     = 3,\n",
    "    swathdistance        = 0.8 / downfactor,\n",
    "    layerDepths          = [],\n",
    "    layerSizes           = [],\n",
    "    bubbleType           = SIMFUN.t_Bubbles.BubbleStream,\n",
    "    exagHPR              = 1,\n",
    "    BaseDirectory        = 'GEOMAR_simresults',\n",
    "    \n",
    "    load_previous_simresults = False,    \n",
    "    verbose = True)\n"
   ]
  },
  {
   "cell_type": "code",
   "execution_count": 6,
   "metadata": {
    "execution": {
     "iopub.execute_input": "2025-02-17T13:48:21.529550Z",
     "iopub.status.busy": "2025-02-17T13:48:21.529113Z",
     "iopub.status.idle": "2025-02-17T13:48:21.619341Z",
     "shell.execute_reply": "2025-02-17T13:48:21.618890Z",
     "shell.execute_reply.started": "2025-02-17T13:48:21.529515Z"
    },
    "tags": []
   },
   "outputs": [
    {
     "data": {
      "text/plain": [
       "np.float64(42.29803219146236)"
      ]
     },
     "execution_count": 6,
     "metadata": {},
     "output_type": "execute_result"
    }
   ],
   "source": [
    "sim_setup = deepcopy(setup)\n",
    "\n",
    "sim_survey = sim_setup.get_survey()\n",
    "\n",
    "sim_survey.setRandomOffsetX(sim_setup.SimSetup['voxelsize'])\n",
    "sim_survey.setRandomOffsetY(sim_setup.SimSetup['voxelsize'])\n",
    "sim_survey.setRandomOffsetZ(sim_setup.SimSetup['voxelsize'])\n",
    "sim_survey.pitchs_degree+=0 # try adding pitch. It is interesting as it bends the bubble stream side lobes (but does not seem to have a negative effect on echo grid integration)\n",
    "sim_survey.yaws_degree+=0\n",
    "\n",
    "sim_setup.Simulation.setSurvey(sim_survey)\n",
    "\n",
    "targets = bubbles.BubbleGenerator().generate_bubblestreams_within_cylindrical_section_along_path(\n",
    "    start_x = -1.5,\n",
    "    end_x = 1.5,\n",
    "    min_range = 0,\n",
    "    max_range = 130,\n",
    "    min_beamsteeringangle = -90,\n",
    "    max_beamsteeringangle = 90,\n",
    "    min_y = 41,\n",
    "    max_y = 43,\n",
    "        zdist_list=[0.1])\n",
    "\n",
    "if False:\n",
    "    xbase=targets.x[int(len(targets)/2)]\n",
    "    ybase=targets.y[int(len(targets)/2)]\n",
    "    zbase=targets.z[int(len(targets)/2)]\n",
    "    for i in range(len(targets)):\n",
    "        targets.x[i] += (targets.z[i] - zbase)/1.1 - xbase\n",
    "        targets.y[i] += (targets.z[i] - zbase)/1.12 - ybase\n",
    "\n",
    "sim_setup.Simulation.setTargets(targets)\n",
    "\n",
    "np.mean(targets.y)"
   ]
  },
  {
   "cell_type": "code",
   "execution_count": 8,
   "metadata": {
    "execution": {
     "iopub.execute_input": "2025-02-17T13:48:37.415934Z",
     "iopub.status.busy": "2025-02-17T13:48:37.415729Z",
     "iopub.status.idle": "2025-02-17T13:48:44.197668Z",
     "shell.execute_reply": "2025-02-17T13:48:44.197250Z",
     "shell.execute_reply.started": "2025-02-17T13:48:37.415922Z"
    }
   },
   "outputs": [
    {
     "data": {
      "application/vnd.jupyter.widget-view+json": {
       "model_id": "c9a425dd613f4eb0a7ad564ffd17f1f0",
       "version_major": 2,
       "version_minor": 0
      },
      "text/plain": [
       "  0%|          | 0/271 [00:00<?, ?it/s]"
      ]
     },
     "metadata": {},
     "output_type": "display_data"
    },
    {
     "name": "stdout",
     "output_type": "stream",
     "text": [
      "124.76800000000003 107.4531368318111 -1.1217158686502797 1228 1228                            "
     ]
    }
   ],
   "source": [
    "SV,X,Y,Z = sim_setup.Simulation.simulate3DEchoesSamples(progress=True)\n",
    "sv=SV.flatten()\n",
    "arg = np.where(np.isfinite(sv))\n",
    "sv=sv[arg]\n",
    "x=X.flatten()[arg]\n",
    "y=Y.flatten()[arg]\n",
    "z=Z.flatten()[arg]"
   ]
  },
  {
   "cell_type": "code",
   "execution_count": 12,
   "metadata": {
    "execution": {
     "iopub.execute_input": "2025-02-17T13:50:22.095920Z",
     "iopub.status.busy": "2025-02-17T13:50:22.094664Z",
     "iopub.status.idle": "2025-02-17T13:50:22.685005Z",
     "shell.execute_reply": "2025-02-17T13:50:22.684709Z",
     "shell.execute_reply.started": "2025-02-17T13:50:22.095881Z"
    }
   },
   "outputs": [
    {
     "name": "stderr",
     "output_type": "stream",
     "text": [
      "/tmp/ipykernel_65814/3029766010.py:7: RuntimeWarning: divide by zero encountered in log10\n",
      "  data['Sv']=10*np.log10(sv)\n"
     ]
    }
   ],
   "source": [
    "data = pd.DataFrame()\n",
    "data['x']=x\n",
    "data['y']=y\n",
    "data['depth']=z\n",
    "data['altitude']=-z\n",
    "data['sv']=sv\n",
    "data['Sv']=10*np.log10(sv)"
   ]
  },
  {
   "cell_type": "code",
   "execution_count": 14,
   "metadata": {
    "execution": {
     "iopub.execute_input": "2025-02-17T13:51:30.144612Z",
     "iopub.status.busy": "2025-02-17T13:51:30.144145Z",
     "iopub.status.idle": "2025-02-17T13:53:05.821841Z",
     "shell.execute_reply": "2025-02-17T13:53:05.821512Z",
     "shell.execute_reply.started": "2025-02-17T13:51:30.144574Z"
    }
   },
   "outputs": [],
   "source": [
    "data.to_csv('export.csv')"
   ]
  },
  {
   "cell_type": "code",
   "execution_count": 16,
   "metadata": {
    "execution": {
     "iopub.execute_input": "2025-02-17T13:54:28.753203Z",
     "iopub.status.busy": "2025-02-17T13:54:28.752467Z",
     "iopub.status.idle": "2025-02-17T13:54:29.027410Z",
     "shell.execute_reply": "2025-02-17T13:54:29.026819Z",
     "shell.execute_reply.started": "2025-02-17T13:54:28.753143Z"
    }
   },
   "outputs": [
    {
     "ename": "ImportError",
     "evalue": "Missing optional dependency 'pytables'.  Use pip or conda to install pytables.",
     "output_type": "error",
     "traceback": [
      "\u001b[0;31m---------------------------------------------------------------------------\u001b[0m",
      "\u001b[0;31mModuleNotFoundError\u001b[0m                       Traceback (most recent call last)",
      "File \u001b[0;32m/ssd/opt/miniforge3/envs/mbes/lib/python3.12/site-packages/pandas/compat/_optional.py:135\u001b[0m, in \u001b[0;36mimport_optional_dependency\u001b[0;34m(name, extra, errors, min_version)\u001b[0m\n\u001b[1;32m    134\u001b[0m \u001b[38;5;28;01mtry\u001b[39;00m:\n\u001b[0;32m--> 135\u001b[0m     module \u001b[38;5;241m=\u001b[39m \u001b[43mimportlib\u001b[49m\u001b[38;5;241;43m.\u001b[39;49m\u001b[43mimport_module\u001b[49m\u001b[43m(\u001b[49m\u001b[43mname\u001b[49m\u001b[43m)\u001b[49m\n\u001b[1;32m    136\u001b[0m \u001b[38;5;28;01mexcept\u001b[39;00m \u001b[38;5;167;01mImportError\u001b[39;00m:\n",
      "File \u001b[0;32m/ssd/opt/miniforge3/envs/mbes/lib/python3.12/importlib/__init__.py:90\u001b[0m, in \u001b[0;36mimport_module\u001b[0;34m(name, package)\u001b[0m\n\u001b[1;32m     89\u001b[0m         level \u001b[38;5;241m+\u001b[39m\u001b[38;5;241m=\u001b[39m \u001b[38;5;241m1\u001b[39m\n\u001b[0;32m---> 90\u001b[0m \u001b[38;5;28;01mreturn\u001b[39;00m \u001b[43m_bootstrap\u001b[49m\u001b[38;5;241;43m.\u001b[39;49m\u001b[43m_gcd_import\u001b[49m\u001b[43m(\u001b[49m\u001b[43mname\u001b[49m\u001b[43m[\u001b[49m\u001b[43mlevel\u001b[49m\u001b[43m:\u001b[49m\u001b[43m]\u001b[49m\u001b[43m,\u001b[49m\u001b[43m \u001b[49m\u001b[43mpackage\u001b[49m\u001b[43m,\u001b[49m\u001b[43m \u001b[49m\u001b[43mlevel\u001b[49m\u001b[43m)\u001b[49m\n",
      "File \u001b[0;32m<frozen importlib._bootstrap>:1387\u001b[0m, in \u001b[0;36m_gcd_import\u001b[0;34m(name, package, level)\u001b[0m\n",
      "File \u001b[0;32m<frozen importlib._bootstrap>:1360\u001b[0m, in \u001b[0;36m_find_and_load\u001b[0;34m(name, import_)\u001b[0m\n",
      "File \u001b[0;32m<frozen importlib._bootstrap>:1324\u001b[0m, in \u001b[0;36m_find_and_load_unlocked\u001b[0;34m(name, import_)\u001b[0m\n",
      "\u001b[0;31mModuleNotFoundError\u001b[0m: No module named 'tables'",
      "\nDuring handling of the above exception, another exception occurred:\n",
      "\u001b[0;31mImportError\u001b[0m                               Traceback (most recent call last)",
      "Cell \u001b[0;32mIn[16], line 1\u001b[0m\n\u001b[0;32m----> 1\u001b[0m \u001b[43mdata\u001b[49m\u001b[38;5;241;43m.\u001b[39;49m\u001b[43mto_hdf\u001b[49m\u001b[43m(\u001b[49m\u001b[38;5;124;43m'\u001b[39;49m\u001b[38;5;124;43mexport.h5\u001b[39;49m\u001b[38;5;124;43m'\u001b[39;49m\u001b[43m,\u001b[49m\u001b[43mkey\u001b[49m\u001b[38;5;241;43m=\u001b[39;49m\u001b[38;5;124;43m'\u001b[39;49m\u001b[38;5;124;43mdata\u001b[39;49m\u001b[38;5;124;43m'\u001b[39;49m\u001b[43m)\u001b[49m\n",
      "File \u001b[0;32m/ssd/opt/miniforge3/envs/mbes/lib/python3.12/site-packages/pandas/util/_decorators.py:333\u001b[0m, in \u001b[0;36mdeprecate_nonkeyword_arguments.<locals>.decorate.<locals>.wrapper\u001b[0;34m(*args, **kwargs)\u001b[0m\n\u001b[1;32m    327\u001b[0m \u001b[38;5;28;01mif\u001b[39;00m \u001b[38;5;28mlen\u001b[39m(args) \u001b[38;5;241m>\u001b[39m num_allow_args:\n\u001b[1;32m    328\u001b[0m     warnings\u001b[38;5;241m.\u001b[39mwarn(\n\u001b[1;32m    329\u001b[0m         msg\u001b[38;5;241m.\u001b[39mformat(arguments\u001b[38;5;241m=\u001b[39m_format_argument_list(allow_args)),\n\u001b[1;32m    330\u001b[0m         \u001b[38;5;167;01mFutureWarning\u001b[39;00m,\n\u001b[1;32m    331\u001b[0m         stacklevel\u001b[38;5;241m=\u001b[39mfind_stack_level(),\n\u001b[1;32m    332\u001b[0m     )\n\u001b[0;32m--> 333\u001b[0m \u001b[38;5;28;01mreturn\u001b[39;00m \u001b[43mfunc\u001b[49m\u001b[43m(\u001b[49m\u001b[38;5;241;43m*\u001b[39;49m\u001b[43margs\u001b[49m\u001b[43m,\u001b[49m\u001b[43m \u001b[49m\u001b[38;5;241;43m*\u001b[39;49m\u001b[38;5;241;43m*\u001b[39;49m\u001b[43mkwargs\u001b[49m\u001b[43m)\u001b[49m\n",
      "File \u001b[0;32m/ssd/opt/miniforge3/envs/mbes/lib/python3.12/site-packages/pandas/core/generic.py:2855\u001b[0m, in \u001b[0;36mNDFrame.to_hdf\u001b[0;34m(self, path_or_buf, key, mode, complevel, complib, append, format, index, min_itemsize, nan_rep, dropna, data_columns, errors, encoding)\u001b[0m\n\u001b[1;32m   2851\u001b[0m \u001b[38;5;28;01mfrom\u001b[39;00m\u001b[38;5;250m \u001b[39m\u001b[38;5;21;01mpandas\u001b[39;00m\u001b[38;5;21;01m.\u001b[39;00m\u001b[38;5;21;01mio\u001b[39;00m\u001b[38;5;250m \u001b[39m\u001b[38;5;28;01mimport\u001b[39;00m pytables\n\u001b[1;32m   2853\u001b[0m \u001b[38;5;66;03m# Argument 3 to \"to_hdf\" has incompatible type \"NDFrame\"; expected\u001b[39;00m\n\u001b[1;32m   2854\u001b[0m \u001b[38;5;66;03m# \"Union[DataFrame, Series]\" [arg-type]\u001b[39;00m\n\u001b[0;32m-> 2855\u001b[0m \u001b[43mpytables\u001b[49m\u001b[38;5;241;43m.\u001b[39;49m\u001b[43mto_hdf\u001b[49m\u001b[43m(\u001b[49m\n\u001b[1;32m   2856\u001b[0m \u001b[43m    \u001b[49m\u001b[43mpath_or_buf\u001b[49m\u001b[43m,\u001b[49m\n\u001b[1;32m   2857\u001b[0m \u001b[43m    \u001b[49m\u001b[43mkey\u001b[49m\u001b[43m,\u001b[49m\n\u001b[1;32m   2858\u001b[0m \u001b[43m    \u001b[49m\u001b[38;5;28;43mself\u001b[39;49m\u001b[43m,\u001b[49m\u001b[43m  \u001b[49m\u001b[38;5;66;43;03m# type: ignore[arg-type]\u001b[39;49;00m\n\u001b[1;32m   2859\u001b[0m \u001b[43m    \u001b[49m\u001b[43mmode\u001b[49m\u001b[38;5;241;43m=\u001b[39;49m\u001b[43mmode\u001b[49m\u001b[43m,\u001b[49m\n\u001b[1;32m   2860\u001b[0m \u001b[43m    \u001b[49m\u001b[43mcomplevel\u001b[49m\u001b[38;5;241;43m=\u001b[39;49m\u001b[43mcomplevel\u001b[49m\u001b[43m,\u001b[49m\n\u001b[1;32m   2861\u001b[0m \u001b[43m    \u001b[49m\u001b[43mcomplib\u001b[49m\u001b[38;5;241;43m=\u001b[39;49m\u001b[43mcomplib\u001b[49m\u001b[43m,\u001b[49m\n\u001b[1;32m   2862\u001b[0m \u001b[43m    \u001b[49m\u001b[43mappend\u001b[49m\u001b[38;5;241;43m=\u001b[39;49m\u001b[43mappend\u001b[49m\u001b[43m,\u001b[49m\n\u001b[1;32m   2863\u001b[0m \u001b[43m    \u001b[49m\u001b[38;5;28;43mformat\u001b[39;49m\u001b[38;5;241;43m=\u001b[39;49m\u001b[38;5;28;43mformat\u001b[39;49m\u001b[43m,\u001b[49m\n\u001b[1;32m   2864\u001b[0m \u001b[43m    \u001b[49m\u001b[43mindex\u001b[49m\u001b[38;5;241;43m=\u001b[39;49m\u001b[43mindex\u001b[49m\u001b[43m,\u001b[49m\n\u001b[1;32m   2865\u001b[0m \u001b[43m    \u001b[49m\u001b[43mmin_itemsize\u001b[49m\u001b[38;5;241;43m=\u001b[39;49m\u001b[43mmin_itemsize\u001b[49m\u001b[43m,\u001b[49m\n\u001b[1;32m   2866\u001b[0m \u001b[43m    \u001b[49m\u001b[43mnan_rep\u001b[49m\u001b[38;5;241;43m=\u001b[39;49m\u001b[43mnan_rep\u001b[49m\u001b[43m,\u001b[49m\n\u001b[1;32m   2867\u001b[0m \u001b[43m    \u001b[49m\u001b[43mdropna\u001b[49m\u001b[38;5;241;43m=\u001b[39;49m\u001b[43mdropna\u001b[49m\u001b[43m,\u001b[49m\n\u001b[1;32m   2868\u001b[0m \u001b[43m    \u001b[49m\u001b[43mdata_columns\u001b[49m\u001b[38;5;241;43m=\u001b[39;49m\u001b[43mdata_columns\u001b[49m\u001b[43m,\u001b[49m\n\u001b[1;32m   2869\u001b[0m \u001b[43m    \u001b[49m\u001b[43merrors\u001b[49m\u001b[38;5;241;43m=\u001b[39;49m\u001b[43merrors\u001b[49m\u001b[43m,\u001b[49m\n\u001b[1;32m   2870\u001b[0m \u001b[43m    \u001b[49m\u001b[43mencoding\u001b[49m\u001b[38;5;241;43m=\u001b[39;49m\u001b[43mencoding\u001b[49m\u001b[43m,\u001b[49m\n\u001b[1;32m   2871\u001b[0m \u001b[43m\u001b[49m\u001b[43m)\u001b[49m\n",
      "File \u001b[0;32m/ssd/opt/miniforge3/envs/mbes/lib/python3.12/site-packages/pandas/io/pytables.py:308\u001b[0m, in \u001b[0;36mto_hdf\u001b[0;34m(path_or_buf, key, value, mode, complevel, complib, append, format, index, min_itemsize, nan_rep, dropna, data_columns, errors, encoding)\u001b[0m\n\u001b[1;32m    306\u001b[0m path_or_buf \u001b[38;5;241m=\u001b[39m stringify_path(path_or_buf)\n\u001b[1;32m    307\u001b[0m \u001b[38;5;28;01mif\u001b[39;00m \u001b[38;5;28misinstance\u001b[39m(path_or_buf, \u001b[38;5;28mstr\u001b[39m):\n\u001b[0;32m--> 308\u001b[0m     \u001b[38;5;28;01mwith\u001b[39;00m \u001b[43mHDFStore\u001b[49m\u001b[43m(\u001b[49m\n\u001b[1;32m    309\u001b[0m \u001b[43m        \u001b[49m\u001b[43mpath_or_buf\u001b[49m\u001b[43m,\u001b[49m\u001b[43m \u001b[49m\u001b[43mmode\u001b[49m\u001b[38;5;241;43m=\u001b[39;49m\u001b[43mmode\u001b[49m\u001b[43m,\u001b[49m\u001b[43m \u001b[49m\u001b[43mcomplevel\u001b[49m\u001b[38;5;241;43m=\u001b[39;49m\u001b[43mcomplevel\u001b[49m\u001b[43m,\u001b[49m\u001b[43m \u001b[49m\u001b[43mcomplib\u001b[49m\u001b[38;5;241;43m=\u001b[39;49m\u001b[43mcomplib\u001b[49m\n\u001b[1;32m    310\u001b[0m \u001b[43m    \u001b[49m\u001b[43m)\u001b[49m \u001b[38;5;28;01mas\u001b[39;00m store:\n\u001b[1;32m    311\u001b[0m         f(store)\n\u001b[1;32m    312\u001b[0m \u001b[38;5;28;01melse\u001b[39;00m:\n",
      "File \u001b[0;32m/ssd/opt/miniforge3/envs/mbes/lib/python3.12/site-packages/pandas/io/pytables.py:566\u001b[0m, in \u001b[0;36mHDFStore.__init__\u001b[0;34m(self, path, mode, complevel, complib, fletcher32, **kwargs)\u001b[0m\n\u001b[1;32m    563\u001b[0m \u001b[38;5;28;01mif\u001b[39;00m \u001b[38;5;124m\"\u001b[39m\u001b[38;5;124mformat\u001b[39m\u001b[38;5;124m\"\u001b[39m \u001b[38;5;129;01min\u001b[39;00m kwargs:\n\u001b[1;32m    564\u001b[0m     \u001b[38;5;28;01mraise\u001b[39;00m \u001b[38;5;167;01mValueError\u001b[39;00m(\u001b[38;5;124m\"\u001b[39m\u001b[38;5;124mformat is not a defined argument for HDFStore\u001b[39m\u001b[38;5;124m\"\u001b[39m)\n\u001b[0;32m--> 566\u001b[0m tables \u001b[38;5;241m=\u001b[39m \u001b[43mimport_optional_dependency\u001b[49m\u001b[43m(\u001b[49m\u001b[38;5;124;43m\"\u001b[39;49m\u001b[38;5;124;43mtables\u001b[39;49m\u001b[38;5;124;43m\"\u001b[39;49m\u001b[43m)\u001b[49m\n\u001b[1;32m    568\u001b[0m \u001b[38;5;28;01mif\u001b[39;00m complib \u001b[38;5;129;01mis\u001b[39;00m \u001b[38;5;129;01mnot\u001b[39;00m \u001b[38;5;28;01mNone\u001b[39;00m \u001b[38;5;129;01mand\u001b[39;00m complib \u001b[38;5;129;01mnot\u001b[39;00m \u001b[38;5;129;01min\u001b[39;00m tables\u001b[38;5;241m.\u001b[39mfilters\u001b[38;5;241m.\u001b[39mall_complibs:\n\u001b[1;32m    569\u001b[0m     \u001b[38;5;28;01mraise\u001b[39;00m \u001b[38;5;167;01mValueError\u001b[39;00m(\n\u001b[1;32m    570\u001b[0m         \u001b[38;5;124mf\u001b[39m\u001b[38;5;124m\"\u001b[39m\u001b[38;5;124mcomplib only supports \u001b[39m\u001b[38;5;132;01m{\u001b[39;00mtables\u001b[38;5;241m.\u001b[39mfilters\u001b[38;5;241m.\u001b[39mall_complibs\u001b[38;5;132;01m}\u001b[39;00m\u001b[38;5;124m compression.\u001b[39m\u001b[38;5;124m\"\u001b[39m\n\u001b[1;32m    571\u001b[0m     )\n",
      "File \u001b[0;32m/ssd/opt/miniforge3/envs/mbes/lib/python3.12/site-packages/pandas/compat/_optional.py:138\u001b[0m, in \u001b[0;36mimport_optional_dependency\u001b[0;34m(name, extra, errors, min_version)\u001b[0m\n\u001b[1;32m    136\u001b[0m \u001b[38;5;28;01mexcept\u001b[39;00m \u001b[38;5;167;01mImportError\u001b[39;00m:\n\u001b[1;32m    137\u001b[0m     \u001b[38;5;28;01mif\u001b[39;00m errors \u001b[38;5;241m==\u001b[39m \u001b[38;5;124m\"\u001b[39m\u001b[38;5;124mraise\u001b[39m\u001b[38;5;124m\"\u001b[39m:\n\u001b[0;32m--> 138\u001b[0m         \u001b[38;5;28;01mraise\u001b[39;00m \u001b[38;5;167;01mImportError\u001b[39;00m(msg)\n\u001b[1;32m    139\u001b[0m     \u001b[38;5;28;01mreturn\u001b[39;00m \u001b[38;5;28;01mNone\u001b[39;00m\n\u001b[1;32m    141\u001b[0m \u001b[38;5;66;03m# Handle submodules: if we have submodule, grab parent module from sys.modules\u001b[39;00m\n",
      "\u001b[0;31mImportError\u001b[0m: Missing optional dependency 'pytables'.  Use pip or conda to install pytables."
     ]
    }
   ],
   "source": [
    "data.to_hdf('export.h5',key='data')"
   ]
  },
  {
   "cell_type": "code",
   "execution_count": 15,
   "metadata": {
    "execution": {
     "iopub.execute_input": "2025-02-17T13:53:46.203362Z",
     "iopub.status.busy": "2025-02-17T13:53:46.202874Z",
     "iopub.status.idle": "2025-02-17T13:53:48.324283Z",
     "shell.execute_reply": "2025-02-17T13:53:48.323950Z",
     "shell.execute_reply.started": "2025-02-17T13:53:46.203324Z"
    }
   },
   "outputs": [],
   "source": [
    "data[data['Sv']>-50].to_csv('export-threshold.csv')"
   ]
  },
  {
   "cell_type": "code",
   "execution_count": 14,
   "metadata": {
    "execution": {
     "iopub.execute_input": "2025-02-17T12:58:06.205833Z",
     "iopub.status.busy": "2025-02-17T12:58:06.205715Z",
     "iopub.status.idle": "2025-02-17T12:58:06.655906Z",
     "shell.execute_reply": "2025-02-17T12:58:06.655557Z",
     "shell.execute_reply.started": "2025-02-17T12:58:06.205823Z"
    }
   },
   "outputs": [
    {
     "name": "stderr",
     "output_type": "stream",
     "text": [
      "/tmp/ipykernel_41094/462574430.py:1: RuntimeWarning: divide by zero encountered in log10\n",
      "  vals=10*np.log10(SV.flatten())\n"
     ]
    },
    {
     "name": "stdout",
     "output_type": "stream",
     "text": [
      "-83.04190620304826\n"
     ]
    },
    {
     "data": {
      "application/vnd.jupyter.widget-view+json": {
       "model_id": "ed8a57b2169b4fa3b442b2bcfbe52a7f",
       "version_major": 2,
       "version_minor": 0
      },
      "image/png": "[encoded data removed]",
      "text/html": [
       "\n",
       "            <div style=\"display: inline-block;\">\n",
       "                <div class=\"jupyter-widgets widget-label\" style=\"text-align: center;\">\n",
       "                    hist\n",
       "                </div>\n",
       "                <img src='data:image/png;base64,iVBORw0KGgoAAAANSUhEUgAAAoAAAAHgCAYAAAA10dzkAAAAOnRFWHRTb2Z0d2FyZQBNYXRwbG90bGliIHZlcnNpb24zLjEwLjAsIGh0dHBzOi8vbWF0cGxvdGxpYi5vcmcvlHJYcgAAAAlwSFlzAAAPYQAAD2EBqD+naQAAHSFJREFUeJzt3X+QVfV5+PFnhXJFYDcCgmy9AiGNMSLRoI2roUqMREpskmmYJpNkiAmZsQP+CGZaSJ3xR2pWG7XMpBXFMOswacRxplhboxHbaNoYUkQyYk1VVITwIw4m7kW+k4uy5/tH4q0rYED37ll4Xq+ZM5Nz9tz12f3kzr45Z+/dlqIoigAAII0jyh4AAID+JQABAJIRgAAAyQhAAIBkBCAAQDICEAAgGQEIAJCMAAQASEYAAgAkIwABAJIRgAAAyQhAAIBkBCAAQDICEAAgGQEIAJCMAAQASEYAAgAkIwABAJIRgAAAyQhAAIBkBCAAQDICEAAgGQEIAJCMAAQASEYAAgAkIwABAJIRgAAAyQhAAIBkBCAAQDICEAAgGQEIAJCMAAQASEYAAgAkIwABAJIRgAAAyQhAAIBkBCAAQDICEAAgGQEIAJCMAAQASEYAAgAkIwABAJIRgH3kRz/6UVxwwQXR3t4eLS0tcffddx/05yiKIm644YZ473vfG5VKJarVanzzm9/s+2EBgNQGlz3A4WLXrl3xgQ98IC688ML48z//87f1OS699NJ44IEH4oYbboiTTz45uru7Y8eOHX08KQCQXUtRFEXZQxxuWlpaYuXKlfHJT36ycWz37t1xxRVXxD/90z/Fyy+/HJMnT47rr78+zjnnnIiI+PnPfx5TpkyJJ554Ik444YRyBgcAUnALuJ9ceOGF8eMf/zhWrFgRjz/+eMyePTvOP//8eOaZZyIi4l//9V/j3e9+d/zbv/1bTJw4MSZMmBBz586NX/3qVyVPDgAcbgRgP3j22WfjjjvuiLvuuiumTZsWkyZNiq997Wvx4Q9/OLq6uiIi4rnnnosXXngh7rrrrli+fHncfvvtsXbt2vj0pz9d8vQAwOHG7wD2g8ceeyyKooj3vve9vY7X6/UYNWpURET09PREvV6P5cuXN85btmxZTJ06NZ566im3hQGAPiMA+0FPT08MGjQo1q5dG4MGDer1seHDh0dExLhx42Lw4MG9IvHEE0+MiIhNmzYJQACgzwjAfnDqqafGnj174sUXX4xp06bt85yzzjorXnvttXj22Wdj0qRJERHx9NNPR0TE+PHj+21WAODw51XAfeSVV16JDRs2RMRvg++mm26K6dOnx8iRI+P444+Pz3/+8/HjH/84brzxxjj11FNjx44d8R//8R9x8sknx5/+6Z9GT09PnH766TF8+PBYvHhx9PT0xLx586K1tTUeeOCBkr86AOBwIgD7yEMPPRTTp0/f6/icOXPi9ttvj1dffTX+9m//NpYvXx5btmyJUaNGRUdHR1x99dVx8sknR0TE1q1b4+KLL44HHngghg0bFjNnzowbb7wxRo4c2d9fDgBwGBOAAADJeBsYAIBkBCAAQDICEAAgGW8D8w709PTE1q1bY8SIEdHS0lL2OADAASiKInbu3Bnt7e1xxBE5r4UJwHdg69atUa1Wyx4DAHgbNm/eHMcdd1zZY5RCAL4DI0aMiIjf/h+otbW15GkAgANRq9WiWq02fo5nJADfgddv+7a2tgpAADjEZP71rZw3vgEAEhOAAADJCEAAgGQEIABAMgIQACAZAQgAkIwABABIRgACACQjAAEAkhGAAADJCEAAgGQEIABAMgIQACCZ1AE4YcKEaGlp2WubN29e2aMBADTN4LIHKNOaNWtiz549jf0nnngizjvvvJg9e3aJUwEDxYSF95Y9wkHbeN2sskcADgGpA/CYY47ptX/dddfFpEmT4uyzzy5pIgCA5kt9C/iNdu/eHd/97nfjS1/6UrS0tJQ9DgBA06S+AvhGd999d7z88svxxS9+cb/n1Ov1qNfrjf1ardYPkwEA9C1XAH9n2bJlMXPmzGhvb9/vOZ2dndHW1tbYqtVqP04IANA3BGBEvPDCC/Hggw/G3Llz3/K8RYsWRXd3d2PbvHlzP00IANB33AKOiK6urhgzZkzMmvXWr56rVCpRqVT6aSoAgOZIfwWwp6cnurq6Ys6cOTF4sB4GAA5/6QPwwQcfjE2bNsWXvvSlskcBAOgX6S95zZgxI4qiKHsMAIB+k/4KIABANgIQACAZAQgAkIwABABIRgACACQjAAEAkhGAAADJCEAAgGQEIABAMgIQACAZAQgAkIwABABIRgACACQjAAEAkhGAAADJCEAAgGQEIABAMgIQACAZAQgAkIwABABIRgACACQjAAEAkhGAAADJCEAAgGQEIABAMgIQACAZAQgAkIwABABIRgACACQjAAEAkhGAAADJCEAAgGQEIABAMgIQACAZAQgAkIwABABIRgACACQjAAEAkhGAAADJpA7ALVu2xOc///kYNWpUHHXUUXHKKafE2rVryx4LAKCpBpc9QFl+/etfx1lnnRXTp0+P++67L8aMGRPPPvtsvOtd7yp7NACApkobgNdff31Uq9Xo6upqHJswYUJ5AwEA9JO0t4DvueeeOO2002L27NkxZsyYOPXUU+O22257y8fU6/Wo1Wq9NgCAQ03aAHzuuediyZIl8Ud/9Efxgx/8IC666KK45JJLYvny5ft9TGdnZ7S1tTW2arXajxMDAPSNlqIoirKHKMOQIUPitNNOi0ceeaRx7JJLLok1a9bET37yk30+pl6vR71eb+zXarWoVqvR3d0dra2tTZ8Z6F8TFt5b9ggHbeN1s8oeAQa8Wq0WbW1tqX9+p70COG7cuHj/+9/f69iJJ54YmzZt2u9jKpVKtLa29toAAA41aQPwrLPOiqeeeqrXsaeffjrGjx9f0kQAAP0jbQB+9atfjdWrV8c3v/nN2LBhQ3zve9+LpUuXxrx588oeDQCgqdIG4Omnnx4rV66MO+64IyZPnhzf+MY3YvHixfG5z32u7NEAAJoq7fsARkR8/OMfj49//ONljwEA0K/SXgEEAMhKAAIAJCMAAQCSEYAAAMkIQACAZAQgAEAyAhAAIBkBCACQjAAEAEhGAAIAJCMAAQCSEYAAAMkIQACAZAQgAEAyAhAAIBkBCACQjAAEAEhGAAIAJCMAAQCSEYAAAMkIQACAZAQgAEAyAhAAIBkBCACQjAAEAEhGAAIAJCMAAQCSEYAAAMkIQACAZAQgAEAyAhAAIBkBCACQjAAEAEhGAAIAJCMAAQCSEYAAAMkIQACAZAQgAEAyAhAAIJm0AXjVVVdFS0tLr+3YY48teywAgKYbXPYAZTrppJPiwQcfbOwPGjSoxGkAAPpH6gAcPHiwq34AQDppbwFHRDzzzDPR3t4eEydOjM985jPx3HPPveX59Xo9arVarw0A4FCTNgA/9KEPxfLly+MHP/hB3HbbbbF9+/Y488wz46WXXtrvYzo7O6Otra2xVavVfpwYAKBvtBRFUZQ9xECwa9eumDRpUvzVX/1VLFiwYJ/n1Ov1qNfrjf1arRbVajW6u7ujtbW1v0YF+smEhfeWPcJB23jdrLJHgAGvVqtFW1tb6p/fqX8H8I2GDRsWJ598cjzzzDP7PadSqUSlUunHqQAA+l7aW8BvVq/X4+c//3mMGzeu7FEAAJoqbQB+7Wtfi4cffjief/75+OlPfxqf/vSno1arxZw5c8oeDQCgqdLeAv7FL34Rn/3sZ2PHjh1xzDHHxBlnnBGrV6+O8ePHlz0aAEBTpQ3AFStWlD0CAEAp0t4CBgDISgACACQjAAEAkhGAAADJCEAAgGQEIABAMgIQACAZAQgAkIwABABIRgACACQjAAEAkhGAAADJCEAAgGQEIABAMgIQACAZAQgAkIwABABIRgACACQjAAEAkhGAAADJCEAAgGQEIABAMgIQACAZAQgAkIwABABIRgACACQjAAEAkhGAAADJCEAAgGQEIABAMgIQACAZAQgAkIwABABIRgACACQjAAEAkhGAAADJCEAAgGQEIABAMgLwdzo7O6OlpSUuu+yyskcBAGgqARgRa9asiaVLl8aUKVPKHgUAoOnSB+Arr7wSn/vc5+K2226Lo48+uuxxAACaLn0Azps3L2bNmhUf/ehHyx4FAKBfDC57gDKtWLEiHnvssVizZs0BnV+v16Nerzf2a7Vas0YDAGiatFcAN2/eHJdeeml897vfjSOPPPKAHtPZ2RltbW2NrVqtNnlKAIC+11IURVH2EGW4++6741Of+lQMGjSocWzPnj3R0tISRxxxRNTr9V4fi9j3FcBqtRrd3d3R2trab7MD/WPCwnvLHuGgbbxuVtkjwIBXq9Wira0t9c/vtLeAzz333Fi/fn2vYxdeeGG8733vi7/+67/eK/4iIiqVSlQqlf4aEQCgKdIG4IgRI2Ly5Mm9jg0bNixGjRq113EAgMNJ2t8BBADIKu0VwH156KGHyh4BAKDpXAEEAEhGAAIAJCMAAQCSEYAAAMkIQACAZAQgAEAyAhAAIBkBCACQjAAEAEhGAAIAJCMAAQCSEYAAAMkIQACAZAQgAEAyAhAAIBkBCACQjAAEAEhGAAIAJCMAAQCSEYAAAMkIQACAZAQgAEAyAhAAIBkBCACQjAAEAEhGAAIAJCMAAQCSEYAAAMkIQACAZAQgAEAyAhAAIBkBCACQjAAEAEhGAAIAJCMAAQCSEYAAAMkMLnsAAPrOhIX3lj3CQdt43ayyR4B0XAEEAEhGAAIAJJM2AJcsWRJTpkyJ1tbWaG1tjY6OjrjvvvvKHgsAoOnSBuBxxx0X1113XTz66KPx6KOPxkc+8pH4xCc+Ef/zP/9T9mgAAE2V9kUgF1xwQa/9a6+9NpYsWRKrV6+Ok046qaSpAACaL20AvtGePXvirrvuil27dkVHR0fZ4wAANFXqAFy/fn10dHTEb37zmxg+fHisXLky3v/+9+/3/Hq9HvV6vbFfq9X6Y0wAgD6V9ncAIyJOOOGE+NnPfharV6+Ov/zLv4w5c+bEk08+ud/zOzs7o62trbFVq9V+nBYAoG+0FEVRlD3EQPHRj340Jk2aFLfeeus+P76vK4DVajW6u7ujtbW1v8YE+smh+KbKhyJvBE1/q9Vq0dbWlvrnd+pbwG9WFEWvwHuzSqUSlUqlHycCAOh7aQPw61//esycOTOq1Wrs3LkzVqxYEQ899FDcf//9ZY8GANBUaQPwl7/8ZXzhC1+Ibdu2RVtbW0yZMiXuv//+OO+888oeDQCgqdIG4LJly8oeAQCgFKlfBQwAkJEABABIRgACACQjAAEAkhGAAADJCEAAgGQEIABAMgIQACAZAQgAkIwABABIRgACACQjAAEAkhGAAADJCEAAgGQEIABAMgIQACAZAQgAkIwABABIRgACACQjAAEAkhGAAADJCEAAgGQEIABAMgIQACAZAQgAkIwABABIRgACACQjAAEAkhGAAADJCEAAgGQEIABAMgIQACAZAQgAkIwABABIRgACACQjAAEAkhGAAADJCEAAgGQEIABAMmkDsLOzM04//fQYMWJEjBkzJj75yU/GU089VfZYAABNlzYAH3744Zg3b16sXr06Vq1aFa+99lrMmDEjdu3aVfZoAABNNbjsAcpy//3399rv6uqKMWPGxNq1a+NP/uRPSpoKAKD50l4BfLPu7u6IiBg5cmTJkwAANFfaK4BvVBRFLFiwID784Q/H5MmT93tevV6Per3e2K/Vav0xHgBAn3IFMCLmz58fjz/+eNxxxx1veV5nZ2e0tbU1tmq12k8TAgD0nfQBePHFF8c999wTP/zhD+O44457y3MXLVoU3d3djW3z5s39NCUAQN9Jewu4KIq4+OKLY+XKlfHQQw/FxIkTf+9jKpVKVCqVfpgOAKB50gbgvHnz4nvf+178y7/8S4wYMSK2b98eERFtbW0xdOjQkqcDAGietLeAlyxZEt3d3XHOOefEuHHjGtudd95Z9mgAAE2V9gpgURRljwAAUIq0VwABALISgAAAyQhAAIBkBCAAQDICEAAgGQEIAJCMAAQASEYAAgAkIwABAJIRgAAAyQhAAIBkBCAAQDICEAAgGQEIAJCMAAQASEYAAgAkIwABAJIRgAAAyQhAAIBkBCAAQDICEAAgGQEIAJCMAAQASEYAAgAkIwABAJIRgAAAyQhAAIBkBCAAQDICEAAgGQEIAJCMAAQASEYAAgAkIwABAJIRgAAAyQhAAIBkBCAAQDICEAAgGQEIAJCMAAQASCZ1AP7oRz+KCy64INrb26OlpSXuvvvuskcCAGi61AG4a9eu+MAHPhD/8A//UPYoAAD9ZnDZA5Rp5syZMXPmzLLHAADoV6kD8GDV6/Wo1+uN/VqtVuI0AABvT+pbwAers7Mz2traGlu1Wi17JACAgyYAD8KiRYuiu7u7sW3evLnskQAADppbwAehUqlEpVIpewwAgHfEFUAAgGRSXwF85ZVXYsOGDY39559/Pn72s5/FyJEj4/jjjy9xMgCA5kkdgI8++mhMnz69sb9gwYKIiJgzZ07cfvvtJU0FANBcqQPwnHPOiaIoyh4DAKBf+R1AAIBkBCAAQDICEAAgGQEIAJCMAAQASEYAAgAkIwABAJIRgAAAyQhAAIBkBCAAQDICEAAgGQEIAJCMAAQASEYAAgAkM7jsAQDIbcLCe8se4aBtvG5W2SPAO+IKIABAMgIQACAZt4CBfnEo3uYDOFy5AggAkIwABABIRgACACQjAAEAkhGAAADJCEAAgGQEIABAMgIQACAZAQgAkIwABABIRgACACQjAAEAkhGAAADJCEAAgGQEIABAMgIQACAZAQgAkIwABABIRgACACQjAAEAkhGAAADJDC57gLLdfPPN8a1vfSu2bdsWJ510UixevDimTZtW9lgADGATFt5b9ggHbeN1s8oegQEk9RXAO++8My677LL4m7/5m1i3bl1MmzYtZs6cGZs2bSp7NACApkkdgDfddFN8+ctfjrlz58aJJ54Yixcvjmq1GkuWLCl7NACApkl7C3j37t2xdu3aWLhwYa/jM2bMiEceeWSfj6nX61Gv1xv73d3dERFRq9WaNygcJnrq/6/sESA1P6v+z+vfi6IoSp6kPGkDcMeOHbFnz54YO3Zsr+Njx46N7du37/MxnZ2dcfXVV+91vFqtNmVGAOgrbYvLnmDg2blzZ7S1tZU9RinSBuDrWlpaeu0XRbHXsdctWrQoFixY0Njv6emJX/3qVzFq1Kj9Pqa/1Gq1qFarsXnz5mhtbS11FvbNGh0arNOhwTodGgbqOhVFETt37oz29vayRylN2gAcPXp0DBo0aK+rfS+++OJeVwVfV6lUolKp9Dr2rne9q1kjvi2tra0D6knG3qzRocE6HRqs06FhIK5T1it/r0v7IpAhQ4bE1KlTY9WqVb2Or1q1Ks4888ySpgIAaL60VwAjIhYsWBBf+MIX4rTTTouOjo5YunRpbNq0KS666KKyRwMAaJrUAfgXf/EX8dJLL8U111wT27Zti8mTJ8f3v//9GD9+fNmjHbRKpRJXXnnlXreoGTis0aHBOh0arNOhwToNXC1F5tdAAwAklPZ3AAEAshKAAADJCEAAgGQEIABAMgLwELJx48b48pe/HBMnToyhQ4fGpEmT4sorr4zdu3f3Om/Tpk1xwQUXxLBhw2L06NFxySWX7HXO+vXr4+yzz46hQ4fGH/7hH8Y111yT+m8i9rVrr702zjzzzDjqqKP2+2bhLS0te2233HJLr3OsU3MdyDp5Pg08EyZM2Ou58+a/634g60Zz3XzzzTFx4sQ48sgjY+rUqfGf//mfZY/EG6R+G5hDzf/+7/9GT09P3HrrrfGe97wnnnjiifjKV74Su3btihtuuCEiIvbs2ROzZs2KY445Jv7rv/4rXnrppZgzZ04URRHf/va3I+K3f5rnvPPOi+nTp8eaNWvi6aefji9+8YsxbNiwuPzyy8v8Eg8bu3fvjtmzZ0dHR0csW7Zsv+d1dXXF+eef39h/4zvTW6fm+33r5Pk0cF1zzTXxla98pbE/fPjwxv8+kHWjue6888647LLL4uabb46zzjorbr311pg5c2Y8+eSTcfzxx5c9HhERBYe0v/u7vysmTpzY2P/+979fHHHEEcWWLVsax+64446iUqkU3d3dRVEUxc0331y0tbUVv/nNbxrndHZ2Fu3t7UVPT0//DZ9AV1dX0dbWts+PRUSxcuXK/T7WOvWf/a2T59PANH78+OLv//7v9/vxA1k3muuP//iPi4suuqjXsfe9733FwoULS5qIN3ML+BDX3d0dI0eObOz/5Cc/icmTJ/f6A9cf+9jHol6vx9q1axvnnH322b3emPNjH/tYbN26NTZu3NhvsxMxf/78GD16dJx++ulxyy23RE9PT+Nj1ql8nk8D1/XXXx+jRo2KU045Ja699tpet3cPZN1ont27d8fatWtjxowZvY7PmDEjHnnkkZKm4s3cAj6EPfvss/Htb387brzxxsax7du3x9ixY3udd/TRR8eQIUNi+/btjXMmTJjQ65zXH7N9+/aYOHFicwcnIiK+8Y1vxLnnnhtDhw6Nf//3f4/LL788duzYEVdccUVEWKeBwPNpYLr00kvjgx/8YBx99NHx3//937Fo0aJ4/vnn4zvf+U5EHNi60Tw7duyIPXv27LUGY8eO9f0fQFwBHACuuuqqfb4g4I3bo48+2usxW7dujfPPPz9mz54dc+fO7fWxlpaWvf4bRVH0Ov7mc4rf/cL6vh7Lb72ddXorV1xxRXR0dMQpp5wSl19+eVxzzTXxrW99q9c51ung9fU6eT71j4NZt69+9atx9tlnx5QpU2Lu3Llxyy23xLJly+Kll15qfL4DWTeaa1/PC9//gcMVwAFg/vz58ZnPfOYtz3njFYatW7fG9OnTo6OjI5YuXdrrvGOPPTZ++tOf9jr261//Ol599dXGv8aOPfbYvf4V9uKLL0ZE7PUvNv7Pwa7TwTrjjDOiVqvFL3/5yxg7dqx1epv6cp08n/rPO1m3M844IyIiNmzYEKNGjTqgdaN5Ro8eHYMGDdrn88L3f+AQgAPA6NGjY/To0Qd07pYtW2L69OkxderU6OrqiiOO6H0Rt6OjI6699trYtm1bjBs3LiIiHnjggahUKjF16tTGOV//+tdj9+7dMWTIkMY57e3t7yhgDncHs05vx7p16+LII49svB2JdXp7+nKdPJ/6zztZt3Xr1kVENNboQNaN5hkyZEhMnTo1Vq1aFZ/61Kcax1etWhWf+MQnSpyMXkp8AQoHacuWLcV73vOe4iMf+Ujxi1/8oti2bVtje91rr71WTJ48uTj33HOLxx57rHjwwQeL4447rpg/f37jnJdffrkYO3Zs8dnPfrZYv3598c///M9Fa2trccMNN5TxZR2WXnjhhWLdunXF1VdfXQwfPrxYt25dsW7dumLnzp1FURTFPffcUyxdurRYv359sWHDhuK2224rWltbi0suuaTxOaxT8/2+dfJ8GngeeeSR4qabbirWrVtXPPfcc8Wdd95ZtLe3F3/2Z3/WOOdA1o3mWrFiRfEHf/AHxbJly4onn3yyuOyyy4phw4YVGzduLHs0fkcAHkK6urqKiNjn9kYvvPBCMWvWrGLo0KHFyJEji/nz5/d6i4qiKIrHH3+8mDZtWlGpVIpjjz22uOqqq7xlRR+aM2fOPtfphz/8YVEURXHfffcVp5xySjF8+PDiqKOOKiZPnlwsXry4ePXVV3t9HuvUXL9vnYrC82mgWbt2bfGhD32oaGtrK4488sjihBNOKK688spi165dvc47kHWjuf7xH/+xGD9+fDFkyJDigx/8YPHwww+XPRJv0FIU3q4eACATrwIGAEhGAAIAJCMAAQCSEYAAAMkIQACAZAQgAEAyAhAAIBkBCACQjAAEAEhGAAIAJCMAAQCSEYAAAMkIQACAZAQgAEAyAhAAIBkBCACQjAAEAEhGAAIAJCMAAQCSEYAAAMkIQACAZAQgAEAyAhAAIBkBCACQjAAEAEhGAAIAJCMAAQCSEYAAAMkIQACAZAQgAEAyAhAAIJn/DxHpH3n6Lm0yAAAAAElFTkSuQmCC' width=640.0/>\n",
       "            </div>\n",
       "        "
      ],
      "text/plain": [
       "Canvas(toolbar=Toolbar(toolitems=[('Home', 'Reset original view', 'home', 'home'), ('Back', 'Back to previous …"
      ]
     },
     "metadata": {},
     "output_type": "display_data"
    }
   ],
   "source": [
    "vals=10*np.log10(SV.flatten())\n",
    "arg=np.where(np.isfinite(vals))\n",
    "vals = vals[arg]\n",
    "plt.close('hist')\n",
    "plt.figure('hist')\n",
    "plt.hist(vals)\n",
    "print(np.median(vals))"
   ]
  },
  {
   "cell_type": "code",
   "execution_count": 16,
   "metadata": {
    "execution": {
     "iopub.execute_input": "2025-02-17T12:58:41.217860Z",
     "iopub.status.busy": "2025-02-17T12:58:41.217585Z",
     "iopub.status.idle": "2025-02-17T12:58:43.986466Z",
     "shell.execute_reply": "2025-02-17T12:58:43.986118Z",
     "shell.execute_reply.started": "2025-02-17T12:58:41.217848Z"
    }
   },
   "outputs": [
    {
     "name": "stderr",
     "output_type": "stream",
     "text": [
      "/tmp/ipykernel_41094/3624244808.py:8: RuntimeWarning: divide by zero encountered in log10\n",
      "  vals=10*np.log10(SV.flatten())\n"
     ]
    },
    {
     "data": {
      "application/vnd.jupyter.widget-view+json": {
       "model_id": "53de94cf949e43bebebcddcefc247fd4",
       "version_major": 2,
       "version_minor": 0
      },
      "text/plain": [
       "interactive(children=(FloatSlider(value=-53.457577599174684, description='Threshold:', max=7.4920802005580285,…"
      ]
     },
     "metadata": {},
     "output_type": "display_data"
    },
    {
     "data": {
      "application/vnd.jupyter.widget-view+json": {
       "model_id": "5cc5101bbcb7481b8a28ef012e96d658",
       "version_major": 2,
       "version_minor": 0
      },
      "text/plain": [
       "Widget(value='<iframe src=\"http://localhost:33975/index.html?ui=P_0x7b851a95b9e0_1&reconnect=auto\" class=\"pyvi…"
      ]
     },
     "metadata": {},
     "output_type": "display_data"
    }
   ],
   "source": [
    "\n",
    "import pyvista as pv\n",
    "import numpy as np\n",
    "from ipywidgets import interact, FloatSlider\n",
    "\n",
    "# Assuming you have:\n",
    "# x, y, z: coordinate arrays\n",
    "# vals: value array for coloring\n",
    "vals=10*np.log10(SV.flatten())\n",
    "arg=np.where(np.isfinite(vals))\n",
    "vals = vals[arg]\n",
    "x=X.flatten()[arg]\n",
    "y=Y.flatten()[arg]\n",
    "z=-Z.flatten()[arg]   #default means z is positive down\n",
    "\n",
    "# Assuming you have:\n",
    "# x, y, z: coordinate arrays\n",
    "# vals: value array for coloring\n",
    "\n",
    "# Create point cloud data\n",
    "points = np.column_stack((x, y, z))\n",
    "point_cloud = pv.PolyData(points)\n",
    "point_cloud.point_data['values'] = vals\n",
    "\n",
    "# Get value range for slider\n",
    "val_min = vals.min()\n",
    "val_max = vals.max()\n",
    "val_default = np.quantile(vals,0.95)\n",
    "\n",
    "# Create plotter in notebook mode\n",
    "plotter = pv.Plotter(notebook=True)\n",
    "\n",
    "# Function to update threshold\n",
    "def update_threshold(threshold):\n",
    "    plotter.clear()\n",
    "    \n",
    "    # Apply threshold\n",
    "    thresh = point_cloud.threshold(threshold, scalars='values')\n",
    "    \n",
    "    # Add points to plotter\n",
    "    plotter.add_mesh(thresh,\n",
    "                    render_points_as_spheres=True,\n",
    "                    point_size=10,\n",
    "                    scalars='values',\n",
    "                    cmap='viridis',\n",
    "                    clim=[val_min, val_max])\n",
    "    \n",
    "    plotter.add_scalar_bar('values')\n",
    "    plotter.reset_camera()\n",
    "\n",
    "# Create interactive widget\n",
    "interact(update_threshold,\n",
    "        threshold=FloatSlider(min=val_min,\n",
    "                            max=val_max,\n",
    "                            step=(val_max-val_min)/100,\n",
    "                            value=val_default,\n",
    "                            description='Threshold:',\n",
    "                            continuous_update=True))\n",
    "\n",
    "# Show the plot\n",
    "plotter.show()"
   ]
  },
  {
   "cell_type": "code",
   "execution_count": 18,
   "metadata": {
    "execution": {
     "iopub.execute_input": "2025-02-17T12:59:11.953773Z",
     "iopub.status.busy": "2025-02-17T12:59:11.953466Z",
     "iopub.status.idle": "2025-02-17T12:59:22.564418Z",
     "shell.execute_reply": "2025-02-17T12:59:22.564008Z",
     "shell.execute_reply.started": "2025-02-17T12:59:11.953752Z"
    },
    "tags": []
   },
   "outputs": [
    {
     "data": {
      "application/vnd.jupyter.widget-view+json": {
       "model_id": "71ba6bbf372b46beb6275b9b867f4508",
       "version_major": 2,
       "version_minor": 0
      },
      "text/plain": [
       "  0%|          | 0/271 [00:00<?, ?it/s]"
      ]
     },
     "metadata": {},
     "output_type": "display_data"
    },
    {
     "name": "stdout",
     "output_type": "stream",
     "text": [
      "124.76800000000003 108.3885565669982 -0.3989280643376745 1081 1081                           "
     ]
    }
   ],
   "source": [
    "scatterGrids = sim_setup.Simulation.simulate3DEchoesGrid(progress=True)['weighted_mean']"
   ]
  },
  {
   "cell_type": "code",
   "execution_count": 26,
   "metadata": {
    "execution": {
     "iopub.execute_input": "2025-02-17T13:09:33.624497Z",
     "iopub.status.busy": "2025-02-17T13:09:33.624202Z",
     "iopub.status.idle": "2025-02-17T13:09:42.072908Z",
     "shell.execute_reply": "2025-02-17T13:09:42.072554Z",
     "shell.execute_reply.started": "2025-02-17T13:09:33.624475Z"
    }
   },
   "outputs": [
    {
     "data": {
      "application/vnd.jupyter.widget-view+json": {
       "model_id": "d2e91e1e2d624107aa8b6f4120944a1e",
       "version_major": 2,
       "version_minor": 0
      },
      "text/plain": [
       "  0%|          | 0/271 [00:00<?, ?it/s]"
      ]
     },
     "metadata": {},
     "output_type": "display_data"
    },
    {
     "name": "stdout",
     "output_type": "stream",
     "text": [
      "124.76800000000003 108.3885565669982 -0.3989280643376745 1081 1081                           "
     ]
    }
   ],
   "source": [
    "\n",
    "SV,X,Y,Z = sim_setup.Simulation.simulate3DEchoesSamples(progress=True)\n",
    "\n",
    "#vals=10*np.log10(SV.flatten())\n",
    "vals=SV.flatten()\n",
    "arg=np.where(vals > 0)\n",
    "arg=np.where(np.isna\n",
    "vals = vals[arg]\n",
    "x=X.flatten()[arg]\n",
    "y=Y.flatten()[arg]\n",
    "z=-Z.flatten()[arg]   #default means z is positive down\n",
    "\n",
    "echogrid = theping.gridding.EchoGrid.from_data(1.0, x,y,z,vals)"
   ]
  },
  {
   "cell_type": "code",
   "execution_count": 29,
   "metadata": {
    "execution": {
     "iopub.execute_input": "2025-02-17T13:10:46.856069Z",
     "iopub.status.busy": "2025-02-17T13:10:46.855190Z",
     "iopub.status.idle": "2025-02-17T13:10:46.861313Z",
     "shell.execute_reply": "2025-02-17T13:10:46.860708Z",
     "shell.execute_reply.started": "2025-02-17T13:10:46.856014Z"
    }
   },
   "outputs": [],
   "source": [
    "import numpy as np\n",
    "import vtk\n",
    "from vtk.util import numpy_support\n",
    "\n",
    "def numpy_to_vtk_grid(values, x_coords, y_coords, z_coords):\n",
    "    \n",
    "    \"\"\"Convert 3D numpy array with coordinates to VTK structured grid.\n",
    "    \n",
    "    Args:\n",
    "        values (np.ndarray): 3D numpy array with values\n",
    "        x_coords (np.ndarray): x coordinates\n",
    "        y_coords (np.ndarray): y coordinates\n",
    "        z_coords (np.ndarray): z coordinates\n",
    "    \n",
    "    Returns:\n",
    "        vtk.vtkStructuredGrid: VTK grid with data\n",
    "    \"\"\"\n",
    "    # Create the structured grid\n",
    "    grid = vtk.vtkStructuredGrid()\n",
    "    \n",
    "    # Set dimensions\n",
    "    grid.SetDimensions(len(x_coords), len(y_coords), len(z_coords))\n",
    "    \n",
    "    # Create points array\n",
    "    points = vtk.vtkPoints()\n",
    "    for z in z_coords:\n",
    "        for y in y_coords:\n",
    "            for x in x_coords:\n",
    "                points.InsertNextPoint(x, y, z)\n",
    "    \n",
    "    # Set the points\n",
    "    grid.SetPoints(points)\n",
    "    \n",
    "    # Add the data\n",
    "    vtk_array = numpy_support.numpy_to_vtk(\n",
    "        values.flatten(order='F'),\n",
    "        deep=True,\n",
    "        array_type=vtk.VTK_FLOAT\n",
    "    )\n",
    "    vtk_array.SetName(\"values\")\n",
    "    grid.GetPointData().AddArray(vtk_array)\n",
    "    \n",
    "    return grid\n",
    "\n",
    "def echogrid_to_vtk(echogrid, min_db_val):\n",
    "    values = echogrid.get_3DImage(minDbVal=min_db_val)\n",
    "    gridder = echogrid.getGridder()\n",
    "    \n",
    "    x_coords = gridder.get_x_coordinates()\n",
    "    y_coords = gridder.get_y_coordinates()\n",
    "    z_coords = gridder.get_z_coordinates()\n",
    "\n",
    "    return numpy_to_vtk_grid(values, x_coords, y_coords, z_coords)"
   ]
  },
  {
   "cell_type": "code",
   "execution_count": 35,
   "metadata": {
    "execution": {
     "iopub.execute_input": "2025-02-17T13:16:37.652562Z",
     "iopub.status.busy": "2025-02-17T13:16:37.652367Z",
     "iopub.status.idle": "2025-02-17T13:16:38.584478Z",
     "shell.execute_reply": "2025-02-17T13:16:38.584094Z",
     "shell.execute_reply.started": "2025-02-17T13:16:37.652551Z"
    }
   },
   "outputs": [
    {
     "name": "stdout",
     "output_type": "stream",
     "text": [
      "create vtk\n",
      "threshold\n",
      "(-178.0605751185162, 4.690374808577408)\n"
     ]
    }
   ],
   "source": [
    "import pyvista as pv\n",
    "\n",
    "min_db_val=-200\n",
    "\n",
    "# Convert to VTK grid\n",
    "print('create vtk')\n",
    "image = echogrid.get_3DImage(minDbVal=min_db_val)\n",
    "gridder = echogrid.getGridder()\n",
    "\n",
    "x_coords = gridder.get_x_coordinates()\n",
    "y_coords = gridder.get_y_coordinates()\n",
    "z_coords = gridder.get_z_coordinates()\n",
    "\n",
    "vtk_grid = numpy_to_vtk_grid(\n",
    "    image, \n",
    "    gridder.get_x_coordinates(),\n",
    "    gridder.get_y_coordinates(),\n",
    "    gridder.get_z_coordinates()\n",
    ")\n",
    "pv_grid = pv.wrap(vtk_grid)\n",
    "\n",
    "\n",
    "# Apply threshold to keep only finite values\n",
    "if True:\n",
    "    print('threshold')\n",
    "    valid_range = np.nanmin(image), np.nanmax(image)\n",
    "    print(valid_range)\n",
    "    pv_grid = pv_grid.threshold(valid_range)"
   ]
  },
  {
   "cell_type": "code",
   "execution_count": 36,
   "metadata": {
    "execution": {
     "iopub.execute_input": "2025-02-17T13:16:39.444465Z",
     "iopub.status.busy": "2025-02-17T13:16:39.443862Z",
     "iopub.status.idle": "2025-02-17T13:16:44.976591Z",
     "shell.execute_reply": "2025-02-17T13:16:44.976224Z",
     "shell.execute_reply.started": "2025-02-17T13:16:39.444446Z"
    }
   },
   "outputs": [
    {
     "data": {
      "application/vnd.jupyter.widget-view+json": {
       "model_id": "3e8508a6afec4ca5ac78357df5c68b1b",
       "version_major": 2,
       "version_minor": 0
      },
      "text/plain": [
       "Widget(value='<iframe src=\"http://localhost:33975/index.html?ui=P_0x7b84d53e9f40_3&reconnect=auto\" class=\"pyvi…"
      ]
     },
     "metadata": {},
     "output_type": "display_data"
    }
   ],
   "source": [
    "# Then you can convert to PyVista if needed:\n",
    "import pyvista as pv\n",
    "from pyvistaqt import BackgroundPlotter\n",
    "\n",
    "# Visualize\n",
    "pl = pv.Plotter()\n",
    "#pl = BackgroundPlotter()\n",
    "pl.add_mesh(\n",
    "    pv_grid,\n",
    "    scalars='values',\n",
    "    cmap=\"viridis\",\n",
    "    opacity=0.5,\n",
    "    use_transparency=True,\n",
    "    nan_opacity=0,\n",
    "    \n",
    "    #show_edges=False\n",
    ")\n",
    "pl.add_mesh_threshold(pv_grid,scalars='values',title='min_sv')\n",
    "# def my_plane_func(normal, origin):\n",
    "#     slc = pv_grid.slice(normal=normal, origin=origin)\n",
    "#     arrows = slc.glyph(orient='vectors', scale=\"scalars\", factor=0.01)\n",
    "#     pl.add_mesh(arrows, name='arrows')\n",
    "pl.add_mesh_slice(pv_grid,scalars='values')\n",
    "\n",
    "\n",
    "# pl.add_plane_widget(my_plane_func)\n",
    "\n",
    "pl.show_grid()\n",
    "pl.show()"
   ]
  },
  {
   "cell_type": "code",
   "execution_count": null,
   "metadata": {},
   "outputs": [],
   "source": []
  }
 ],
 "metadata": {
  "kernelspec": {
   "display_name": "Python 3 (ipykernel)",
   "language": "python",
   "name": "python3"
  },
  "language_info": {
   "codemirror_mode": {
    "name": "ipython",
    "version": 3
   },
   "file_extension": ".py",
   "mimetype": "text/x-python",
   "name": "python",
   "nbconvert_exporter": "python",
   "pygments_lexer": "ipython3",
   "version": "3.12.9"
  },
  "widgets": {
   "application/vnd.jupyter.widget-state+json": {
    "state": {},
    "version_major": 2,
    "version_minor": 0
   }
  }
 },
 "nbformat": 4,
 "nbformat_minor": 4
}
