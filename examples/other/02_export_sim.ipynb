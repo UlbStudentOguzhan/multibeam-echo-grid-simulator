{
 "cells": [
  {
   "cell_type": "code",
   "execution_count": 1,
   "metadata": {
    "execution": {
     "iopub.execute_input": "2025-02-17T13:48:03.866299Z",
     "iopub.status.busy": "2025-02-17T13:48:03.866118Z",
     "iopub.status.idle": "2025-02-17T13:48:03.868582Z",
     "shell.execute_reply": "2025-02-17T13:48:03.868284Z",
     "shell.execute_reply.started": "2025-02-17T13:48:03.866285Z"
    },
    "tags": []
   },
   "outputs": [],
   "source": [
    "#add mbes_sim to search path\n",
    "import sys\n",
    "sys.path.insert(0, \"../../src/\")"
   ]
  },
  {
   "cell_type": "code",
   "execution_count": 2,
   "metadata": {
    "execution": {
     "iopub.execute_input": "2025-02-17T13:48:04.236526Z",
     "iopub.status.busy": "2025-02-17T13:48:04.236328Z",
     "iopub.status.idle": "2025-02-17T13:48:05.064764Z",
     "shell.execute_reply": "2025-02-17T13:48:05.064387Z",
     "shell.execute_reply.started": "2025-02-17T13:48:04.236513Z"
    },
    "tags": []
   },
   "outputs": [],
   "source": [
    "%matplotlib widget\n",
    "\n",
    "from ipywidgets import *\n",
    "import matplotlib.pyplot as plt\n",
    "\n",
    "import numpy as np\n",
    "import math\n",
    "from copy import deepcopy\n",
    "from tqdm.auto import tqdm\n",
    "import pandas as pd\n",
    "\n",
    "import mbes_sim.simulationfunctions as SIMFUN\n",
    "import mbes_sim.functions.create_bubblesfunctions as bubbles"
   ]
  },
  {
   "cell_type": "code",
   "execution_count": 3,
   "metadata": {
    "execution": {
     "iopub.execute_input": "2025-02-17T13:48:05.065530Z",
     "iopub.status.busy": "2025-02-17T13:48:05.065280Z",
     "iopub.status.idle": "2025-02-17T13:48:05.067669Z",
     "shell.execute_reply": "2025-02-17T13:48:05.067400Z",
     "shell.execute_reply.started": "2025-02-17T13:48:05.065519Z"
    }
   },
   "outputs": [],
   "source": [
    "# simplify plotting\n",
    "import matplotlib as mpl\n",
    "\n",
    "mpl.rcParams['figure.dpi'] = 100\n",
    "close_plots = True\n",
    "\n",
    "\n",
    "def create_figure(name):\n",
    "    if close_plots: plt.close(name)\n",
    "    fig = plt.figure(name)\n",
    "    fig.suptitle = name\n",
    "    \n",
    "    return fig"
   ]
  },
  {
   "cell_type": "code",
   "execution_count": 4,
   "metadata": {
    "execution": {
     "iopub.execute_input": "2025-02-17T13:48:05.503424Z",
     "iopub.status.busy": "2025-02-17T13:48:05.503217Z",
     "iopub.status.idle": "2025-02-17T13:48:05.505733Z",
     "shell.execute_reply": "2025-02-17T13:48:05.505436Z",
     "shell.execute_reply.started": "2025-02-17T13:48:05.503412Z"
    },
    "tags": []
   },
   "outputs": [],
   "source": [
    "downfactor = 1 #speed up sumlation by reducing the resolution and number of beams and samples of the mbes\n",
    "resfactor  = 1\n",
    "voxsize    = 1\n",
    "\n",
    "beam_pattern = SIMFUN.t_Window.Exponential\n",
    "\n",
    "method_name = 'sv_int_lin'"
   ]
  },
  {
   "cell_type": "code",
   "execution_count": 5,
   "metadata": {
    "execution": {
     "iopub.execute_input": "2025-02-17T13:48:06.434594Z",
     "iopub.status.busy": "2025-02-17T13:48:06.434404Z",
     "iopub.status.idle": "2025-02-17T13:48:13.823593Z",
     "shell.execute_reply": "2025-02-17T13:48:13.822977Z",
     "shell.execute_reply.started": "2025-02-17T13:48:06.434582Z"
    },
    "tags": []
   },
   "outputs": [
    {
     "data": {
      "application/vnd.jupyter.widget-view+json": {
       "model_id": "91b4ceee07e24c4c8e25910753a7ae3d",
       "version_major": 2,
       "version_minor": 0
      },
      "text/plain": [
       "  0%|          | 0/256 [00:00<?, ?it/s]"
      ]
     },
     "metadata": {},
     "output_type": "display_data"
    },
    {
     "name": "stdout",
     "output_type": "stream",
     "text": [
      "recalculated MBES\n",
      "-108.25 108.25\n"
     ]
    }
   ],
   "source": [
    "setup = SIMFUN.SimulationSetup(\n",
    "    addPlots = True,\n",
    "    prefix = 'examples',\n",
    "    downfactor = downfactor,\n",
    "    blockAvg = False,\n",
    "    resfactor  = resfactor,\n",
    "    windowType           = beam_pattern,\n",
    "    idealizedBeampattern = False,\n",
    "    equiDist             = False,\n",
    "    motionDataPath = '../../test_data/m143_l0154_motion.csv',\n",
    "    \n",
    "    surveyType           = SIMFUN.t_Survey.RealMotion,\n",
    "    voxelsize            = voxsize / downfactor,\n",
    "    voxelsizeZ           = voxsize / downfactor,\n",
    "    surveyspeedKnots     = 3,\n",
    "    swathdistance        = 0.8 / downfactor,\n",
    "    layerDepths          = [],\n",
    "    layerSizes           = [],\n",
    "    bubbleType           = SIMFUN.t_Bubbles.BubbleStream,\n",
    "    exagHPR              = 1,\n",
    "    BaseDirectory        = 'GEOMAR_simresults',\n",
    "    \n",
    "    load_previous_simresults = False,    \n",
    "    verbose = True)\n"
   ]
  },
  {
   "cell_type": "code",
   "execution_count": 6,
   "metadata": {
    "execution": {
     "iopub.execute_input": "2025-02-17T13:48:21.529550Z",
     "iopub.status.busy": "2025-02-17T13:48:21.529113Z",
     "iopub.status.idle": "2025-02-17T13:48:21.619341Z",
     "shell.execute_reply": "2025-02-17T13:48:21.618890Z",
     "shell.execute_reply.started": "2025-02-17T13:48:21.529515Z"
    },
    "tags": []
   },
   "outputs": [
    {
     "data": {
      "text/plain": [
       "np.float64(42.29803219146236)"
      ]
     },
     "execution_count": 6,
     "metadata": {},
     "output_type": "execute_result"
    }
   ],
   "source": [
    "sim_setup = deepcopy(setup)\n",
    "\n",
    "sim_survey = sim_setup.get_survey()\n",
    "\n",
    "sim_survey.setRandomOffsetX(sim_setup.SimSetup['voxelsize'])\n",
    "sim_survey.setRandomOffsetY(sim_setup.SimSetup['voxelsize'])\n",
    "sim_survey.setRandomOffsetZ(sim_setup.SimSetup['voxelsize'])\n",
    "sim_survey.pitchs_degree+=0 # try adding pitch. It is interesting as it bends the bubble stream side lobes (but does not seem to have a negative effect on echo grid integration)\n",
    "sim_survey.yaws_degree+=0\n",
    "\n",
    "sim_setup.Simulation.setSurvey(sim_survey)\n",
    "\n",
    "targets = bubbles.BubbleGenerator().generate_bubblestreams_within_cylindrical_section_along_path(\n",
    "    start_x = -1.5,\n",
    "    end_x = 1.5,\n",
    "    min_range = 0,\n",
    "    max_range = 130,\n",
    "    min_beamsteeringangle = -90,\n",
    "    max_beamsteeringangle = 90,\n",
    "    min_y = 41,\n",
    "    max_y = 43,\n",
    "        zdist_list=[0.1])\n",
    "\n",
    "if False:\n",
    "    xbase=targets.x[int(len(targets)/2)]\n",
    "    ybase=targets.y[int(len(targets)/2)]\n",
    "    zbase=targets.z[int(len(targets)/2)]\n",
    "    for i in range(len(targets)):\n",
    "        targets.x[i] += (targets.z[i] - zbase)/1.1 - xbase\n",
    "        targets.y[i] += (targets.z[i] - zbase)/1.12 - ybase\n",
    "\n",
    "sim_setup.Simulation.setTargets(targets)\n",
    "\n",
    "np.mean(targets.y)"
   ]
  },
  {
   "cell_type": "code",
   "execution_count": 8,
   "metadata": {
    "execution": {
     "iopub.execute_input": "2025-02-17T13:48:37.415934Z",
     "iopub.status.busy": "2025-02-17T13:48:37.415729Z",
     "iopub.status.idle": "2025-02-17T13:48:44.197668Z",
     "shell.execute_reply": "2025-02-17T13:48:44.197250Z",
     "shell.execute_reply.started": "2025-02-17T13:48:37.415922Z"
    }
   },
   "outputs": [
    {
     "data": {
      "application/vnd.jupyter.widget-view+json": {
       "model_id": "c9a425dd613f4eb0a7ad564ffd17f1f0",
       "version_major": 2,
       "version_minor": 0
      },
      "text/plain": [
       "  0%|          | 0/271 [00:00<?, ?it/s]"
      ]
     },
     "metadata": {},
     "output_type": "display_data"
    },
    {
     "name": "stdout",
     "output_type": "stream",
     "text": [
      "124.76800000000003 107.4531368318111 -1.1217158686502797 1228 1228                            "
     ]
    }
   ],
   "source": [
    "SV,X,Y,Z = sim_setup.Simulation.simulate3DEchoesSamples(progress=True)\n",
    "sv=SV.flatten()\n",
    "arg = np.where(np.isfinite(sv))\n",
    "sv=sv[arg]\n",
    "x=X.flatten()[arg]\n",
    "y=Y.flatten()[arg]\n",
    "z=Z.flatten()[arg]"
   ]
  },
  {
   "cell_type": "code",
   "execution_count": 12,
   "metadata": {
    "execution": {
     "iopub.execute_input": "2025-02-17T13:50:22.095920Z",
     "iopub.status.busy": "2025-02-17T13:50:22.094664Z",
     "iopub.status.idle": "2025-02-17T13:50:22.685005Z",
     "shell.execute_reply": "2025-02-17T13:50:22.684709Z",
     "shell.execute_reply.started": "2025-02-17T13:50:22.095881Z"
    }
   },
   "outputs": [
    {
     "name": "stderr",
     "output_type": "stream",
     "text": [
      "/tmp/ipykernel_65814/3029766010.py:7: RuntimeWarning: divide by zero encountered in log10\n",
      "  data['Sv']=10*np.log10(sv)\n"
     ]
    }
   ],
   "source": [
    "data = pd.DataFrame()\n",
    "data['x']=x\n",
    "data['y']=y\n",
    "data['depth']=z\n",
    "data['altitude']=-z\n",
    "data['sv']=sv\n",
    "data['Sv']=10*np.log10(sv)"
   ]
  },
  {
   "cell_type": "code",
   "execution_count": 14,
   "metadata": {
    "execution": {
     "iopub.execute_input": "2025-02-17T13:51:30.144612Z",
     "iopub.status.busy": "2025-02-17T13:51:30.144145Z",
     "iopub.status.idle": "2025-02-17T13:53:05.821841Z",
     "shell.execute_reply": "2025-02-17T13:53:05.821512Z",
     "shell.execute_reply.started": "2025-02-17T13:51:30.144574Z"
    }
   },
   "outputs": [],
   "source": [
    "data.to_csv('export.csv')"
   ]
  },
  {
   "cell_type": "code",
   "execution_count": 17,
   "metadata": {
    "execution": {
     "iopub.execute_input": "2025-02-17T13:58:13.022639Z",
     "iopub.status.busy": "2025-02-17T13:58:13.022149Z",
     "iopub.status.idle": "2025-02-17T13:58:14.624722Z",
     "shell.execute_reply": "2025-02-17T13:58:14.624390Z",
     "shell.execute_reply.started": "2025-02-17T13:58:13.022600Z"
    }
   },
   "outputs": [],
   "source": [
    "data.to_hdf('export.h5',key='data')"
   ]
  },
  {
   "cell_type": "code",
   "execution_count": null,
   "metadata": {},
   "outputs": [],
   "source": []
  }
 ],
 "metadata": {
  "kernelspec": {
   "display_name": "Python 3 (ipykernel)",
   "language": "python",
   "name": "python3"
  },
  "language_info": {
   "codemirror_mode": {
    "name": "ipython",
    "version": 3
   },
   "file_extension": ".py",
   "mimetype": "text/x-python",
   "name": "python",
   "nbconvert_exporter": "python",
   "pygments_lexer": "ipython3",
   "version": "3.12.9"
  },
  "widgets": {
   "application/vnd.jupyter.widget-state+json": {
    "state": {
     "0145a493fd944b0f8ecaca1bfa7714a0": {
      "model_module": "@jupyter-widgets/controls",
      "model_module_version": "2.0.0",
      "model_name": "HTMLStyleModel",
      "state": {
       "description_width": "",
       "font_size": null,
       "text_color": null
      }
     },
     "05653f269e874b20b683f7812d40b75b": {
      "model_module": "@jupyter-widgets/controls",
      "model_module_version": "2.0.0",
      "model_name": "FloatProgressModel",
      "state": {
       "bar_style": "success",
       "layout": "IPY_MODEL_ba391e803d1f4b60918390aaf8c02fdd",
       "max": 256,
       "style": "IPY_MODEL_dddb0fa5592040858087eda39650abf8",
       "value": 256
      }
     },
     "1c63b16afaf4479495c7317ffd9b5c14": {
      "model_module": "@jupyter-widgets/base",
      "model_module_version": "2.0.0",
      "model_name": "LayoutModel",
      "state": {}
     },
     "27a39680d11c48dda8a9b71f3e3c7bea": {
      "model_module": "@jupyter-widgets/base",
      "model_module_version": "2.0.0",
      "model_name": "LayoutModel",
      "state": {}
     },
     "3188887b8ca0432d8b2f8954a1ef7bec": {
      "model_module": "@jupyter-widgets/controls",
      "model_module_version": "2.0.0",
      "model_name": "HBoxModel",
      "state": {
       "children": [
        "IPY_MODEL_3b2e87c3dc1e41bebe0673c175bc0300",
        "IPY_MODEL_57ebe9ad326148e58139858929bb5d73",
        "IPY_MODEL_efd626404faa4a4e8943b99412be0485"
       ],
       "layout": "IPY_MODEL_1c63b16afaf4479495c7317ffd9b5c14"
      }
     },
     "3b2e87c3dc1e41bebe0673c175bc0300": {
      "model_module": "@jupyter-widgets/controls",
      "model_module_version": "2.0.0",
      "model_name": "HTMLModel",
      "state": {
       "layout": "IPY_MODEL_e34d4577db814cac99e86607bea17cb1",
       "style": "IPY_MODEL_daceb78fda4e458bb9576a33e21c1125",
       "value": "100%"
      }
     },
     "417096a026624b3d846af9ee4a16d9f3": {
      "model_module": "@jupyter-widgets/base",
      "model_module_version": "2.0.0",
      "model_name": "LayoutModel",
      "state": {}
     },
     "484eb811016741c7988c0a2f24aed61d": {
      "model_module": "@jupyter-widgets/base",
      "model_module_version": "2.0.0",
      "model_name": "LayoutModel",
      "state": {}
     },
     "57ebe9ad326148e58139858929bb5d73": {
      "model_module": "@jupyter-widgets/controls",
      "model_module_version": "2.0.0",
      "model_name": "FloatProgressModel",
      "state": {
       "bar_style": "success",
       "layout": "IPY_MODEL_94a28af2b64946319383194008cf835e",
       "max": 271,
       "style": "IPY_MODEL_8132ef907b3b46be8d27251e55ab5b49",
       "value": 271
      }
     },
     "58e3e53273fc432fb0b5272497e3f446": {
      "model_module": "@jupyter-widgets/base",
      "model_module_version": "2.0.0",
      "model_name": "LayoutModel",
      "state": {}
     },
     "5b10e252b8674649a74184549b42a21d": {
      "model_module": "@jupyter-widgets/base",
      "model_module_version": "2.0.0",
      "model_name": "LayoutModel",
      "state": {}
     },
     "650bf8879d004a8a906d2ae230c1f627": {
      "model_module": "@jupyter-widgets/controls",
      "model_module_version": "2.0.0",
      "model_name": "ProgressStyleModel",
      "state": {
       "description_width": ""
      }
     },
     "69a06b1ec6344e38ab9c4f1168f6899f": {
      "model_module": "@jupyter-widgets/controls",
      "model_module_version": "2.0.0",
      "model_name": "HTMLStyleModel",
      "state": {
       "description_width": "",
       "font_size": null,
       "text_color": null
      }
     },
     "70df6ea94b9245c78dcae93b621192d1": {
      "model_module": "@jupyter-widgets/controls",
      "model_module_version": "2.0.0",
      "model_name": "HTMLStyleModel",
      "state": {
       "description_width": "",
       "font_size": null,
       "text_color": null
      }
     },
     "75e409ee85fe44c3b51cbe0cc793dcea": {
      "model_module": "@jupyter-widgets/controls",
      "model_module_version": "2.0.0",
      "model_name": "HTMLStyleModel",
      "state": {
       "description_width": "",
       "font_size": null,
       "text_color": null
      }
     },
     "75e8a45dfacf42b2a97e43697822f47d": {
      "model_module": "@jupyter-widgets/controls",
      "model_module_version": "2.0.0",
      "model_name": "HTMLModel",
      "state": {
       "layout": "IPY_MODEL_27a39680d11c48dda8a9b71f3e3c7bea",
       "style": "IPY_MODEL_70df6ea94b9245c78dcae93b621192d1",
       "value": " 271/271 [00:06&lt;00:00, 43.08it/s]"
      }
     },
     "79bec426c03e432bbf81326409a824e3": {
      "model_module": "@jupyter-widgets/controls",
      "model_module_version": "2.0.0",
      "model_name": "HTMLModel",
      "state": {
       "layout": "IPY_MODEL_417096a026624b3d846af9ee4a16d9f3",
       "style": "IPY_MODEL_c704eb10061049f4887635df6d1e23bf",
       "value": "100%"
      }
     },
     "8132ef907b3b46be8d27251e55ab5b49": {
      "model_module": "@jupyter-widgets/controls",
      "model_module_version": "2.0.0",
      "model_name": "ProgressStyleModel",
      "state": {
       "description_width": ""
      }
     },
     "91b4ceee07e24c4c8e25910753a7ae3d": {
      "model_module": "@jupyter-widgets/controls",
      "model_module_version": "2.0.0",
      "model_name": "HBoxModel",
      "state": {
       "children": [
        "IPY_MODEL_79bec426c03e432bbf81326409a824e3",
        "IPY_MODEL_05653f269e874b20b683f7812d40b75b",
        "IPY_MODEL_dbd1336a770242eca806f03cc3ac6b0f"
       ],
       "layout": "IPY_MODEL_aa61cb847ef140029b2a07c184d8210e"
      }
     },
     "94a28af2b64946319383194008cf835e": {
      "model_module": "@jupyter-widgets/base",
      "model_module_version": "2.0.0",
      "model_name": "LayoutModel",
      "state": {}
     },
     "a86568c027a84e7ca42e6fd4e6c85712": {
      "model_module": "@jupyter-widgets/controls",
      "model_module_version": "2.0.0",
      "model_name": "HTMLModel",
      "state": {
       "layout": "IPY_MODEL_c5d5a18ab48c44739433625139ae9239",
       "style": "IPY_MODEL_69a06b1ec6344e38ab9c4f1168f6899f",
       "value": "100%"
      }
     },
     "aa61cb847ef140029b2a07c184d8210e": {
      "model_module": "@jupyter-widgets/base",
      "model_module_version": "2.0.0",
      "model_name": "LayoutModel",
      "state": {}
     },
     "ba391e803d1f4b60918390aaf8c02fdd": {
      "model_module": "@jupyter-widgets/base",
      "model_module_version": "2.0.0",
      "model_name": "LayoutModel",
      "state": {}
     },
     "c274eacb49ab4d9c8058b7ff61ce63f2": {
      "model_module": "@jupyter-widgets/controls",
      "model_module_version": "2.0.0",
      "model_name": "FloatProgressModel",
      "state": {
       "bar_style": "success",
       "layout": "IPY_MODEL_484eb811016741c7988c0a2f24aed61d",
       "max": 271,
       "style": "IPY_MODEL_650bf8879d004a8a906d2ae230c1f627",
       "value": 271
      }
     },
     "c5d5a18ab48c44739433625139ae9239": {
      "model_module": "@jupyter-widgets/base",
      "model_module_version": "2.0.0",
      "model_name": "LayoutModel",
      "state": {}
     },
     "c6cf5cb82515479fb2c090a9923c9cbc": {
      "model_module": "@jupyter-widgets/base",
      "model_module_version": "2.0.0",
      "model_name": "LayoutModel",
      "state": {}
     },
     "c704eb10061049f4887635df6d1e23bf": {
      "model_module": "@jupyter-widgets/controls",
      "model_module_version": "2.0.0",
      "model_name": "HTMLStyleModel",
      "state": {
       "description_width": "",
       "font_size": null,
       "text_color": null
      }
     },
     "c9a425dd613f4eb0a7ad564ffd17f1f0": {
      "model_module": "@jupyter-widgets/controls",
      "model_module_version": "2.0.0",
      "model_name": "HBoxModel",
      "state": {
       "children": [
        "IPY_MODEL_a86568c027a84e7ca42e6fd4e6c85712",
        "IPY_MODEL_c274eacb49ab4d9c8058b7ff61ce63f2",
        "IPY_MODEL_75e8a45dfacf42b2a97e43697822f47d"
       ],
       "layout": "IPY_MODEL_5b10e252b8674649a74184549b42a21d"
      }
     },
     "daceb78fda4e458bb9576a33e21c1125": {
      "model_module": "@jupyter-widgets/controls",
      "model_module_version": "2.0.0",
      "model_name": "HTMLStyleModel",
      "state": {
       "description_width": "",
       "font_size": null,
       "text_color": null
      }
     },
     "dbd1336a770242eca806f03cc3ac6b0f": {
      "model_module": "@jupyter-widgets/controls",
      "model_module_version": "2.0.0",
      "model_name": "HTMLModel",
      "state": {
       "layout": "IPY_MODEL_c6cf5cb82515479fb2c090a9923c9cbc",
       "style": "IPY_MODEL_75e409ee85fe44c3b51cbe0cc793dcea",
       "value": " 256/256 [00:05&lt;00:00, 63.55it/s]"
      }
     },
     "dddb0fa5592040858087eda39650abf8": {
      "model_module": "@jupyter-widgets/controls",
      "model_module_version": "2.0.0",
      "model_name": "ProgressStyleModel",
      "state": {
       "description_width": ""
      }
     },
     "e34d4577db814cac99e86607bea17cb1": {
      "model_module": "@jupyter-widgets/base",
      "model_module_version": "2.0.0",
      "model_name": "LayoutModel",
      "state": {}
     },
     "efd626404faa4a4e8943b99412be0485": {
      "model_module": "@jupyter-widgets/controls",
      "model_module_version": "2.0.0",
      "model_name": "HTMLModel",
      "state": {
       "layout": "IPY_MODEL_58e3e53273fc432fb0b5272497e3f446",
       "style": "IPY_MODEL_0145a493fd944b0f8ecaca1bfa7714a0",
       "value": " 271/271 [00:07&lt;00:00, 43.91it/s]"
      }
     }
    },
    "version_major": 2,
    "version_minor": 0
   }
  }
 },
 "nbformat": 4,
 "nbformat_minor": 4
}
