{
 "cells": [
  {
   "cell_type": "code",
   "execution_count": null,
   "metadata": {
    "tags": []
   },
   "outputs": [],
   "source": [
    "#add mbes_sim to search path\n",
    "import sys\n",
    "sys.path.insert(0, \"../src/\")"
   ]
  },
  {
   "cell_type": "code",
   "execution_count": null,
   "metadata": {
    "tags": []
   },
   "outputs": [],
   "source": [
    "# simplify plotting\n",
    "import matplotlib as mpl\n",
    "\n",
    "mpl.rcParams['figure.dpi'] = 100\n",
    "close_plots = True\n",
    "\n",
    "\n",
    "def create_figure(name):\n",
    "    if close_plots: plt.close(name)\n",
    "    fig = plt.figure(name)\n",
    "    fig.suptitle = name\n",
    "    \n",
    "    return fig"
   ]
  },
  {
   "cell_type": "code",
   "execution_count": null,
   "metadata": {
    "tags": []
   },
   "outputs": [],
   "source": [
    "from matplotlib import pyplot as plt\n",
    "\n",
    "from copy import deepcopy\n",
    "\n",
    "import mbes_sim.simulationfunctions as SIMFUN"
   ]
  },
  {
   "cell_type": "code",
   "execution_count": null,
   "metadata": {},
   "outputs": [],
   "source": [
    "downfactor = 1"
   ]
  },
  {
   "cell_type": "code",
   "execution_count": null,
   "metadata": {
    "tags": []
   },
   "outputs": [],
   "source": [
    "\n",
    "\n",
    "setup = SIMFUN.SimulationSetup(\n",
    "    addPlots = False,\n",
    "    prefix = 'sim',\n",
    "    downfactor = downfactor,\n",
    "    blockAvg = True,\n",
    "    resfactor  = 1,\n",
    "    windowType           = SIMFUN.t_Window.Box,\n",
    "    idealizedBeampattern = False,\n",
    "    equiDist             = False,\n",
    "    surveyType           = SIMFUN.t_Survey.IdealMotion,\n",
    "    motionDataPath = '../test_data/m143_l0154_motion.csv',\n",
    "    voxelsize            = 1 / downfactor,\n",
    "    voxelsizeZ           = 1 / downfactor,\n",
    "    surveyspeedKnots     = 3,\n",
    "    swathdistance        = 0.8 / downfactor,\n",
    "    layerDepths          = [],\n",
    "    layerSizes           = [],\n",
    "    bubbleType           = SIMFUN.t_Bubbles.SingleBubble,\n",
    "    exagHPR              = 1,\n",
    "    BaseDirectory        = 'simresults',\n",
    "    \n",
    "    load_previous_simresults = True,    \n",
    "    verbose = True)\n",
    "\n",
    "BaseSetup = deepcopy(setup.SimSetup)"
   ]
  },
  {
   "cell_type": "code",
   "execution_count": null,
   "metadata": {
    "tags": []
   },
   "outputs": [],
   "source": [
    "setup.simulate(totalSimulations=50,\n",
    "               parallelSimulations=5\n",
    "      )"
   ]
  },
  {
   "cell_type": "code",
   "execution_count": null,
   "metadata": {
    "tags": []
   },
   "outputs": [],
   "source": [
    "setup.SimulationResults"
   ]
  },
  {
   "cell_type": "code",
   "execution_count": null,
   "metadata": {},
   "outputs": [],
   "source": []
  }
 ],
 "metadata": {
  "kernelspec": {
   "display_name": "Python 3 (ipykernel)",
   "language": "python",
   "name": "python3"
  },
  "language_info": {
   "codemirror_mode": {
    "name": "ipython",
    "version": 3
   },
   "file_extension": ".py",
   "mimetype": "text/x-python",
   "name": "python",
   "nbconvert_exporter": "python",
   "pygments_lexer": "ipython3",
   "version": "3.11.3"
  }
 },
 "nbformat": 4,
 "nbformat_minor": 4
}
